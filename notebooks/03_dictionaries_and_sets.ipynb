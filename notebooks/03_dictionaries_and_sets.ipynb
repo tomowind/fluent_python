{
 "cells": [
  {
   "cell_type": "markdown",
   "metadata": {},
   "source": [
    "# Dictionaries and Sets"
   ]
  },
  {
   "cell_type": "markdown",
   "metadata": {},
   "source": [
    "## Overview\n",
    "\n",
    "이번장에서는 딕셔너리와 셋을 알아봅니다. built-in 으로는 `dict`, `set`, `frozenset`등이 있고, `collections`에는 `defaultset`, `OrderedDict`등이 있지요. (`collections`에 더 많이 있습니다.)\n",
    "\n",
    "이번장에서는 이 테이블에 나온 자료구조들을 알아봅니다.\n",
    "\n",
    "| Type | Collections | Inherits |\n",
    "|--|--|--|\n",
    "| dictionary | dict, collections.{UserDict, ChainMap, Counter, OrderedDict} | collections.abc.Mapping |\n",
    "| set | set, frozenset | collections.abc.Set |"
   ]
  },
  {
   "cell_type": "markdown",
   "metadata": {},
   "source": [
    "### Python Dictionaries\n",
    "\n",
    "    Any running Python program has many dictionaries active at the same time, even if the user's program code doesn't explicitly use a dictionary.\n",
    "    \n",
    "이게 가능한게, 모든 객체는 dict로 이루어져 있죠. 어떤 라이브러리가 어떤 메소드들이 있는지 궁금하다? 그럼, `dir()`, `vars()`로 시작하시면 됩니다."
   ]
  },
  {
   "cell_type": "code",
   "execution_count": 21,
   "metadata": {
    "scrolled": true
   },
   "outputs": [
    {
     "data": {
      "text/plain": [
       "['__class__',\n",
       " '__contains__',\n",
       " '__delattr__',\n",
       " '__delitem__',\n",
       " '__dir__',\n",
       " '__doc__',\n",
       " '__eq__',\n",
       " '__format__',\n",
       " '__ge__',\n",
       " '__getattribute__',\n",
       " '__getitem__',\n",
       " '__gt__',\n",
       " '__hash__',\n",
       " '__init__',\n",
       " '__init_subclass__',\n",
       " '__iter__',\n",
       " '__le__',\n",
       " '__len__',\n",
       " '__lt__',\n",
       " '__ne__',\n",
       " '__new__',\n",
       " '__reduce__',\n",
       " '__reduce_ex__',\n",
       " '__repr__',\n",
       " '__setattr__',\n",
       " '__setitem__',\n",
       " '__sizeof__',\n",
       " '__str__',\n",
       " '__subclasshook__',\n",
       " 'clear',\n",
       " 'copy',\n",
       " 'fromkeys',\n",
       " 'get',\n",
       " 'items',\n",
       " 'keys',\n",
       " 'pop',\n",
       " 'popitem',\n",
       " 'setdefault',\n",
       " 'update',\n",
       " 'values']"
      ]
     },
     "execution_count": 21,
     "metadata": {},
     "output_type": "execute_result"
    }
   ],
   "source": [
    "dir(__builtins__.__dict__)"
   ]
  },
  {
   "cell_type": "code",
   "execution_count": 22,
   "metadata": {
    "scrolled": true
   },
   "outputs": [
    {
     "data": {
      "text/plain": [
       "{'__name__': 'builtins',\n",
       " '__doc__': \"Built-in functions, exceptions, and other objects.\\n\\nNoteworthy: None is the `nil' object; Ellipsis represents `...' in slices.\",\n",
       " '__package__': '',\n",
       " '__loader__': _frozen_importlib.BuiltinImporter,\n",
       " '__spec__': ModuleSpec(name='builtins', loader=<class '_frozen_importlib.BuiltinImporter'>),\n",
       " '__build_class__': <function __build_class__>,\n",
       " '__import__': <function __import__>,\n",
       " 'abs': <function abs(x, /)>,\n",
       " 'all': <function all(iterable, /)>,\n",
       " 'any': <function any(iterable, /)>,\n",
       " 'ascii': <function ascii(obj, /)>,\n",
       " 'bin': <function bin(number, /)>,\n",
       " 'breakpoint': <function breakpoint>,\n",
       " 'callable': <function callable(obj, /)>,\n",
       " 'chr': <function chr(i, /)>,\n",
       " 'compile': <function compile(source, filename, mode, flags=0, dont_inherit=False, optimize=-1)>,\n",
       " 'delattr': <function delattr(obj, name, /)>,\n",
       " 'dir': <function dir>,\n",
       " 'divmod': <function divmod(x, y, /)>,\n",
       " 'eval': <function eval(source, globals=None, locals=None, /)>,\n",
       " 'exec': <function exec(source, globals=None, locals=None, /)>,\n",
       " 'format': <function format(value, format_spec='', /)>,\n",
       " 'getattr': <function getattr>,\n",
       " 'globals': <function globals()>,\n",
       " 'hasattr': <function hasattr(obj, name, /)>,\n",
       " 'hash': <function hash(obj, /)>,\n",
       " 'hex': <function hex(number, /)>,\n",
       " 'id': <function id(obj, /)>,\n",
       " 'input': <bound method Kernel.raw_input of <ipykernel.ipkernel.IPythonKernel object at 0x10b79dc50>>,\n",
       " 'isinstance': <function isinstance(obj, class_or_tuple, /)>,\n",
       " 'issubclass': <function issubclass(cls, class_or_tuple, /)>,\n",
       " 'iter': <function iter>,\n",
       " 'len': <function len(obj, /)>,\n",
       " 'locals': <function locals()>,\n",
       " 'max': <function max>,\n",
       " 'min': <function min>,\n",
       " 'next': <function next>,\n",
       " 'oct': <function oct(number, /)>,\n",
       " 'ord': <function ord(c, /)>,\n",
       " 'pow': <function pow(x, y, z=None, /)>,\n",
       " 'print': <function print>,\n",
       " 'repr': <function repr(obj, /)>,\n",
       " 'round': <function round(number, ndigits=None)>,\n",
       " 'setattr': <function setattr(obj, name, value, /)>,\n",
       " 'sorted': <function sorted(iterable, /, *, key=None, reverse=False)>,\n",
       " 'sum': <function sum(iterable, start=0, /)>,\n",
       " 'vars': <function vars>,\n",
       " 'None': None,\n",
       " 'Ellipsis': Ellipsis,\n",
       " 'NotImplemented': NotImplemented,\n",
       " 'False': False,\n",
       " 'True': True,\n",
       " 'bool': bool,\n",
       " 'memoryview': memoryview,\n",
       " 'bytearray': bytearray,\n",
       " 'bytes': bytes,\n",
       " 'classmethod': classmethod,\n",
       " 'complex': complex,\n",
       " 'dict': dict,\n",
       " 'enumerate': enumerate,\n",
       " 'filter': filter,\n",
       " 'float': float,\n",
       " 'frozenset': frozenset,\n",
       " 'property': property,\n",
       " 'int': int,\n",
       " 'list': list,\n",
       " 'map': map,\n",
       " 'object': object,\n",
       " 'range': range,\n",
       " 'reversed': reversed,\n",
       " 'set': set,\n",
       " 'slice': slice,\n",
       " 'staticmethod': staticmethod,\n",
       " 'str': str,\n",
       " 'super': super,\n",
       " 'tuple': tuple,\n",
       " 'type': type,\n",
       " 'zip': zip,\n",
       " '__debug__': True,\n",
       " 'BaseException': BaseException,\n",
       " 'Exception': Exception,\n",
       " 'TypeError': TypeError,\n",
       " 'StopAsyncIteration': StopAsyncIteration,\n",
       " 'StopIteration': StopIteration,\n",
       " 'GeneratorExit': GeneratorExit,\n",
       " 'SystemExit': SystemExit,\n",
       " 'KeyboardInterrupt': KeyboardInterrupt,\n",
       " 'ImportError': ImportError,\n",
       " 'ModuleNotFoundError': ModuleNotFoundError,\n",
       " 'OSError': OSError,\n",
       " 'EnvironmentError': OSError,\n",
       " 'IOError': OSError,\n",
       " 'EOFError': EOFError,\n",
       " 'RuntimeError': RuntimeError,\n",
       " 'RecursionError': RecursionError,\n",
       " 'NotImplementedError': NotImplementedError,\n",
       " 'NameError': NameError,\n",
       " 'UnboundLocalError': UnboundLocalError,\n",
       " 'AttributeError': AttributeError,\n",
       " 'SyntaxError': SyntaxError,\n",
       " 'IndentationError': IndentationError,\n",
       " 'TabError': TabError,\n",
       " 'LookupError': LookupError,\n",
       " 'IndexError': IndexError,\n",
       " 'KeyError': KeyError,\n",
       " 'ValueError': ValueError,\n",
       " 'UnicodeError': UnicodeError,\n",
       " 'UnicodeEncodeError': UnicodeEncodeError,\n",
       " 'UnicodeDecodeError': UnicodeDecodeError,\n",
       " 'UnicodeTranslateError': UnicodeTranslateError,\n",
       " 'AssertionError': AssertionError,\n",
       " 'ArithmeticError': ArithmeticError,\n",
       " 'FloatingPointError': FloatingPointError,\n",
       " 'OverflowError': OverflowError,\n",
       " 'ZeroDivisionError': ZeroDivisionError,\n",
       " 'SystemError': SystemError,\n",
       " 'ReferenceError': ReferenceError,\n",
       " 'MemoryError': MemoryError,\n",
       " 'BufferError': BufferError,\n",
       " 'Warning': Warning,\n",
       " 'UserWarning': UserWarning,\n",
       " 'DeprecationWarning': DeprecationWarning,\n",
       " 'PendingDeprecationWarning': PendingDeprecationWarning,\n",
       " 'SyntaxWarning': SyntaxWarning,\n",
       " 'RuntimeWarning': RuntimeWarning,\n",
       " 'FutureWarning': FutureWarning,\n",
       " 'ImportWarning': ImportWarning,\n",
       " 'UnicodeWarning': UnicodeWarning,\n",
       " 'BytesWarning': BytesWarning,\n",
       " 'ResourceWarning': ResourceWarning,\n",
       " 'ConnectionError': ConnectionError,\n",
       " 'BlockingIOError': BlockingIOError,\n",
       " 'BrokenPipeError': BrokenPipeError,\n",
       " 'ChildProcessError': ChildProcessError,\n",
       " 'ConnectionAbortedError': ConnectionAbortedError,\n",
       " 'ConnectionRefusedError': ConnectionRefusedError,\n",
       " 'ConnectionResetError': ConnectionResetError,\n",
       " 'FileExistsError': FileExistsError,\n",
       " 'FileNotFoundError': FileNotFoundError,\n",
       " 'IsADirectoryError': IsADirectoryError,\n",
       " 'NotADirectoryError': NotADirectoryError,\n",
       " 'InterruptedError': InterruptedError,\n",
       " 'PermissionError': PermissionError,\n",
       " 'ProcessLookupError': ProcessLookupError,\n",
       " 'TimeoutError': TimeoutError,\n",
       " 'open': <function io.open(file, mode='r', buffering=-1, encoding=None, errors=None, newline=None, closefd=True, opener=None)>,\n",
       " 'copyright': Copyright (c) 2001-2018 Python Software Foundation.\n",
       " All Rights Reserved.\n",
       " \n",
       " Copyright (c) 2000 BeOpen.com.\n",
       " All Rights Reserved.\n",
       " \n",
       " Copyright (c) 1995-2001 Corporation for National Research Initiatives.\n",
       " All Rights Reserved.\n",
       " \n",
       " Copyright (c) 1991-1995 Stichting Mathematisch Centrum, Amsterdam.\n",
       " All Rights Reserved.,\n",
       " 'credits':     Thanks to CWI, CNRI, BeOpen.com, Zope Corporation and a cast of thousands\n",
       "     for supporting Python development.  See www.python.org for more information.,\n",
       " 'license': Type license() to see the full license text,\n",
       " 'help': Type help() for interactive help, or help(object) for help about object.,\n",
       " '__IPYTHON__': True,\n",
       " 'display': <function IPython.core.display.display(*objs, include=None, exclude=None, metadata=None, transient=None, display_id=None, **kwargs)>,\n",
       " 'get_ipython': <bound method InteractiveShell.get_ipython of <ipykernel.zmqshell.ZMQInteractiveShell object at 0x10b79d978>>}"
      ]
     },
     "execution_count": 22,
     "metadata": {},
     "output_type": "execute_result"
    }
   ],
   "source": [
    "vars(__builtins__)"
   ]
  },
  {
   "cell_type": "markdown",
   "metadata": {},
   "source": [
    "### What is `hashable`?\n",
    "\n",
    "`dict`의 key나 `set`의 원소는 hashable 이어야 합니다. 테크니컬하게 `__hash__`를 구현한 것들이 hashable이죠. 정의는 이렇다네요.\n",
    "\n",
    "    An object is hashable if it has a hash value which never changes during its lifetime (it needs a __hash__() method), and can be compared to other objects (it needs an __eq__() method). Hashable objects which compare equal must have the same hash value. [...]\n",
    "    \n",
    "immutable atomic types (`str`, `byte`, etc), `frozenset`, `tuple` 등이 hashable 이라고 합니다."
   ]
  },
  {
   "cell_type": "code",
   "execution_count": 1,
   "metadata": {},
   "outputs": [
    {
     "name": "stdout",
     "output_type": "stream",
     "text": [
      "2528502973977326415\n",
      "4488973264\n",
      "unhashable type: 'list'\n"
     ]
    }
   ],
   "source": [
    "# tuple은 hashable\n",
    "t = (1, 2, 3)\n",
    "print(hash(t))\n",
    "print(id(t))\n",
    "\n",
    "# list는 아닙니다\n",
    "try:\n",
    "    l = [1, 2, 3]\n",
    "    print(hash(l))\n",
    "except TypeError as e:\n",
    "    print(e)"
   ]
  },
  {
   "cell_type": "markdown",
   "metadata": {},
   "source": [
    "`dict` 자체도 hashable이 아닙니다. key, value 를 넣었다 뺄수 있으니 당연하지요.\n",
    "\n",
    "그러면, `dict`을 다른 `dict`의 key로 사용하려면 어떻게 해야 할까요? 구리지만, 다음처럼 할 수는 있습니다."
   ]
  },
  {
   "cell_type": "code",
   "execution_count": 12,
   "metadata": {},
   "outputs": [],
   "source": [
    "# dict 을 다른 dict 의 key로...\n",
    "d = {1:2, 3:4}\n",
    "key = hash(tuple(sorted(d.items())))"
   ]
  },
  {
   "cell_type": "markdown",
   "metadata": {},
   "source": [
    "### Example: Group Anagram [Link](https://leetcode.com/problems/group-anagrams/)\n",
    "\n",
    "`dict`이 다른 `dict`의 key 로 사용되는 경우입니다. 문제를 쉽고 만만하게 봤는데 (실제로 그렇지만), 파이썬에서 dict 을 다른 dict 의 key 로 하는 방법이 까다로워서 좀 헤맸습니다.\n",
    "\n",
    "Given an array of strings, group anagrams together.\n",
    "\n",
    "Example:\n",
    "```\n",
    "Input: [\"eat\", \"tea\", \"tan\", \"ate\", \"nat\", \"bat\"],\n",
    "Output:\n",
    "[\n",
    "  [\"ate\",\"eat\",\"tea\"],\n",
    "  [\"nat\",\"tan\"],\n",
    "  [\"bat\"]\n",
    "]\n",
    "```\n",
    "Note:\n",
    "- All inputs will be in lowercase.\n",
    "- The order of your output does not matter."
   ]
  },
  {
   "cell_type": "code",
   "execution_count": 13,
   "metadata": {},
   "outputs": [
    {
     "data": {
      "text/plain": [
       "[['eat', 'tea', 'ate'], ['tan', 'nat'], ['bat']]"
      ]
     },
     "execution_count": 13,
     "metadata": {},
     "output_type": "execute_result"
    }
   ],
   "source": [
    "from collections import defaultdict, Counter\n",
    "from typing import List\n",
    "\n",
    "def group_anagrams(strs: List[str]) -> List[List[str]]:\n",
    "    # 이게 그 힘들게 dict 를 hashable 한겁니다.\n",
    "    def get_hash(counter):\n",
    "        return hash(tuple(sorted(list(dict(counter).items()))))\n",
    "\n",
    "    out = defaultdict(list)\n",
    "    for s in strs:\n",
    "        out[get_hash(Counter(s))].append(s)\n",
    "\n",
    "    return list(out.values())\n",
    "group_anagrams([\"eat\", \"tea\", \"tan\", \"ate\", \"nat\", \"bat\"])"
   ]
  },
  {
   "cell_type": "code",
   "execution_count": 20,
   "metadata": {},
   "outputs": [
    {
     "data": {
      "text/plain": [
       "[['eat', 'tea', 'ate'], ['tan', 'nat'], ['bat']]"
      ]
     },
     "execution_count": 20,
     "metadata": {},
     "output_type": "execute_result"
    }
   ],
   "source": [
    "from collections import defaultdict\n",
    "from typing import List\n",
    "\n",
    "def group_anagrams2(strs: List[str]) -> List[List[str]]:\n",
    "    def get_counter(s):\n",
    "        # counter 를 list 로 만든후에 tuple 로 만들면 쉽게 hashable 이죠.\n",
    "        counter = [0] * 26\n",
    "        for c in s:\n",
    "            counter[ord(c)-ord('a')] += 1\n",
    "        return counter\n",
    "    \n",
    "    out = defaultdict(list)\n",
    "    for s in strs:\n",
    "        out[tuple(get_counter(s))].append(s)\n",
    "\n",
    "    return list(out.values())\n",
    "group_anagrams2([\"eat\", \"tea\", \"tan\", \"ate\", \"nat\", \"bat\"])"
   ]
  },
  {
   "cell_type": "markdown",
   "metadata": {},
   "source": [
    "## Special handling for missing keys\n",
    "\n",
    "`d[k]`를 해서 값이 없을때에 기본 값으로 주는 방법이 두가지가 있습니다: `setdefault()`이나 `collections.defaultdict`. 이미 위의 아나그램 문제에서 `defaultdict`을 잘 썼지만, 다른 문제를 하나 더 보겠습니다.\n",
    "\n",
    "특별 함수 중 `__missing__`이 값이 없는 상황을 다룹니다. 관심이 있으시면 책을 읽어주세요."
   ]
  },
  {
   "cell_type": "markdown",
   "metadata": {},
   "source": [
    "### Example: Word Ladder [Link](https://leetcode.com/problems/word-ladder/)\n",
    "\n",
    "`defaultdict`을 사용하는 문제입니다. \n",
    "\n",
    "Given two words (beginWord and endWord), and a dictionary's word list, find the length of shortest transformation sequence from beginWord to endWord, such that:\n",
    "\n",
    "1. Only one letter can be changed at a time.\n",
    "2. Each transformed word must exist in the word list. Note that beginWord is not a transformed word.\n",
    "\n",
    "Note:\n",
    "- Return 0 if there is no such transformation sequence.\n",
    "- All words have the same length.\n",
    "- All words contain only lowercase alphabetic characters.\n",
    "- You may assume no duplicates in the word list.\n",
    "- You may assume beginWord and endWord are non-empty and are not the same.\n",
    "\n",
    "Example 1:\n",
    "\n",
    "Input:\n",
    "- beginWord = \"hit\",\n",
    "- endWord = \"cog\",\n",
    "- wordList = [\"hot\",\"dot\",\"dog\",\"lot\",\"log\",\"cog\"]\n",
    "\n",
    "Output: 5\n",
    "\n",
    "Explanation: As one shortest transformation is \"hit\" -> \"hot\" -> \"dot\" -> \"dog\" -> \"cog\",\n",
    "return its length 5."
   ]
  },
  {
   "cell_type": "code",
   "execution_count": 7,
   "metadata": {},
   "outputs": [
    {
     "name": "stdout",
     "output_type": "stream",
     "text": [
      "5\n",
      "0\n"
     ]
    }
   ],
   "source": [
    "import collections\n",
    "from typing import List\n",
    "\n",
    "def ladder_length(beginWord: str, endWord: str, wordList: List[str]) -> int:\n",
    "    if not wordList:\n",
    "        return 0\n",
    "\n",
    "    word_len = len(wordList[0])\n",
    "    word_dict = collections.defaultdict(list) # 이런식으로 자주 씁니다.\n",
    "    for word in wordList:\n",
    "        for i in range(word_len):\n",
    "            word_dict['_'.join([word[:i], word[i+1:]])].append(word)\n",
    "            # 이런식으로도 쓸 수 있죠.\n",
    "            # word_dict.setdefault('_'.join([word[:i], word[i+1:]]), []).append(word)\n",
    "    visited = set([beginWord])\n",
    "    queue = collections.deque([(beginWord, 1)])\n",
    "\n",
    "    while queue:\n",
    "        word, count = queue.popleft()\n",
    "        if word == endWord:\n",
    "            return count\n",
    "        for i in range(word_len):\n",
    "            next_cand = '_'.join([word[:i], word[i+1:]])\n",
    "            if next_cand in word_dict:\n",
    "                next_words = [word for word in word_dict[next_cand] if word not in visited]\n",
    "                if next_words:\n",
    "                    visited.update(next_words)\n",
    "                    queue.extend([(word, count+1) for word in next_words])\n",
    "\n",
    "    return 0\n",
    "\n",
    "print(ladder_length('hit', 'cog', [\"hot\",\"dot\",\"dog\",\"lot\",\"log\",\"cog\"]))\n",
    "print(ladder_length('hit', 'cog', [\"hot\",\"dot\",\"dog\",\"lot\",\"log\"]))"
   ]
  },
  {
   "cell_type": "markdown",
   "metadata": {},
   "source": [
    "## Variations of dict in the standard library\n",
    "\n",
    "| Library | 설명 / 예제 |\n",
    "|--|--|\n",
    "| OrderedDict | Used for LRUCache below |\n",
    "| ChainMap | import builtins; pylookup = ChainMap(locals(), globals(), vars(builtins))|\n",
    "| Counter | Counter('abracadabra') |\n",
    "| UserDict | A pure Python implementation of a mapping that works like a standard dict |"
   ]
  },
  {
   "cell_type": "markdown",
   "metadata": {},
   "source": [
    "### Example: LRU Cache [Link](https://leetcode.com/problems/lru-cache/)\n",
    "\n",
    "Leetcode 의 가장 상단에 있는 문제인 LRU Cache 입니다. 최적의 해는 List + Map 을 써서 search, insert, delete 모두 `O(1)`에 만드는 것이죠.\n",
    "\n",
    "언어별로 라이브러리를 쓰면 구현이 굉장히 쉬울 수 있습니다. 파이썬은 `OrderedDict`, 자바는 `LinkedHashMap`을 쓰면 되죠.\n",
    "\n",
    "사실, 함수에 annotation 으로 사용되는 `functools.lru_cache`라는 구현도 이미 있습니다. (7장에서 알아보겠습니다.)"
   ]
  },
  {
   "cell_type": "code",
   "execution_count": 9,
   "metadata": {},
   "outputs": [],
   "source": [
    "import collections\n",
    "\n",
    "class LRUCache:\n",
    "    def __init__(self, capacity: int):\n",
    "        self.dict = collections.OrderedDict()\n",
    "        self.capacity = capacity\n",
    "        \n",
    "    def get(self, key: int) -> int:\n",
    "        if key not in self.dict:\n",
    "            return -1\n",
    "            \n",
    "        self.dict.move_to_end(key)\n",
    "        return self.dict[key]\n",
    "        \n",
    "    def put(self, key: int, value: int) -> None:\n",
    "        self.dict[key] = valueㄴ\n",
    "        self.dict.move_to_end(key)\n",
    "        \n",
    "        if len(self.dict) > self.capacity:\n",
    "            self.dict.popitem(last=False)"
   ]
  },
  {
   "cell_type": "markdown",
   "metadata": {},
   "source": [
    "Python 3.5 이상에서는 `dict`도 keep ordering 합니다. 하지만, 위처럼 LRUCache는 만들수가 없는데요. `move_to_end()`, `popitem(last)` 가 없기 때문입니다."
   ]
  },
  {
   "cell_type": "markdown",
   "metadata": {},
   "source": [
    "## Other things about `dict`\n",
    "- 새로운 딕셔너리 클래스를 만들고 싶다면 `dict`보다는 `collections.UserDict`를 상속하라네요.\n",
    "- Immutable dict를 만들고 싶으면 `types.MappingProxyType`을 쓰면 된다고 합니다."
   ]
  },
  {
   "cell_type": "code",
   "execution_count": 24,
   "metadata": {},
   "outputs": [
    {
     "name": "stdout",
     "output_type": "stream",
     "text": [
      "{1: 'A'}\n",
      "'mappingproxy' object does not support item assignment\n"
     ]
    }
   ],
   "source": [
    "from types import MappingProxyType\n",
    "d = {1: 'A'}\n",
    "d_proxy = MappingProxyType(d)\n",
    "print(d_proxy)\n",
    "try:\n",
    "    d_proxy[2] = 'x'\n",
    "except TypeError as e:\n",
    "    print(e)"
   ]
  },
  {
   "cell_type": "markdown",
   "metadata": {},
   "source": [
    "## `set` and `frozenset`\n",
    "- List comp, Dict comp, Set comp 는 간단하니 생략하겠습니다.\n",
    "- `frozenset`은 immutable 이구요.\n",
    "- `set`을 초기화 할때에는 `{1}` 이라고 하는게 `set([1])`보다 빠르네요."
   ]
  },
  {
   "cell_type": "code",
   "execution_count": 25,
   "metadata": {},
   "outputs": [
    {
     "name": "stdout",
     "output_type": "stream",
     "text": [
      "  1           0 LOAD_CONST               0 (1)\n",
      "              2 BUILD_SET                1\n",
      "              4 RETURN_VALUE\n",
      "None\n",
      "  1           0 LOAD_NAME                0 (set)\n",
      "              2 LOAD_CONST               0 (1)\n",
      "              4 BUILD_LIST               1\n",
      "              6 CALL_FUNCTION            1\n",
      "              8 RETURN_VALUE\n",
      "None\n"
     ]
    }
   ],
   "source": [
    "from dis import dis\n",
    "print(dis('{1}'))\n",
    "print(dis('set([1])'))"
   ]
  },
  {
   "cell_type": "markdown",
   "metadata": {},
   "source": [
    "## Performance of `dict` and `set`\n",
    "Find needle in haystack 실험을 해봅니다. 결과는 다음과 같습니다."
   ]
  },
  {
   "cell_type": "code",
   "execution_count": 26,
   "metadata": {},
   "outputs": [
    {
     "name": "stdout",
     "output_type": "stream",
     "text": [
      "initial sample: 10500000 elements\n",
      "complete sample: 10500000 elements\n",
      "not selected: 500000 samples\n",
      "  writing not_selected.arr\n",
      "selected: 10000000 samples\n",
      "  writing selected.arr\n"
     ]
    }
   ],
   "source": [
    "# https://github.com/fluentpython/example-code/blob/master/03-dict-set/support/container_perftest_datagen.py\n",
    "\n",
    "\"\"\"\n",
    "Generate data for container performance test\n",
    "\"\"\"\n",
    "\n",
    "import random\n",
    "import array\n",
    "\n",
    "MAX_EXPONENT = 7\n",
    "HAYSTACK_LEN = 10 ** MAX_EXPONENT\n",
    "NEEDLES_LEN = 10 ** (MAX_EXPONENT - 1)\n",
    "SAMPLE_LEN = HAYSTACK_LEN + NEEDLES_LEN // 2\n",
    "\n",
    "needles = array.array('d')\n",
    "\n",
    "sample = {1/random.random() for i in range(SAMPLE_LEN)}\n",
    "print('initial sample: %d elements' % len(sample))\n",
    "\n",
    "# complete sample, in case duplicate random numbers were discarded\n",
    "while len(sample) < SAMPLE_LEN:\n",
    "    sample.add(1/random.random())\n",
    "\n",
    "print('complete sample: %d elements' % len(sample))\n",
    "\n",
    "sample = array.array('d', sample)\n",
    "random.shuffle(sample)\n",
    "\n",
    "not_selected = sample[:NEEDLES_LEN // 2]\n",
    "print('not selected: %d samples' % len(not_selected))\n",
    "print('  writing not_selected.arr')\n",
    "with open('not_selected.arr', 'wb') as fp:\n",
    "    not_selected.tofile(fp)\n",
    "\n",
    "selected = sample[NEEDLES_LEN // 2:]\n",
    "print('selected: %d samples' % len(selected))\n",
    "print('  writing selected.arr')\n",
    "with open('selected.arr', 'wb') as fp:\n",
    "    selected.tofile(fp)"
   ]
  },
  {
   "cell_type": "code",
   "execution_count": 29,
   "metadata": {},
   "outputs": [
    {
     "name": "stdout",
     "output_type": "stream",
     "text": [
      "|    1000|0.000150\n",
      "|   10000|0.000090\n",
      "|  100000|0.000153\n",
      "| 1000000|0.000298\n",
      "|10000000|0.000499\n",
      "|    1000|0.000084\n",
      "|   10000|0.000093\n",
      "|  100000|0.000146\n",
      "| 1000000|0.000224\n",
      "|10000000|0.000339\n",
      "|    1000|0.006553\n",
      "|   10000|0.067543\n",
      "|  100000|0.688339\n",
      "| 1000000|6.922648\n",
      "|10000000|68.989036\n"
     ]
    }
   ],
   "source": [
    "# https://github.com/fluentpython/example-code/blob/master/03-dict-set/support/container_perftest.py\n",
    "    \n",
    "\"\"\"\n",
    "Container ``in`` operator performance test\n",
    "\"\"\"\n",
    "import sys\n",
    "import timeit\n",
    "\n",
    "SETUP = '''\n",
    "import array\n",
    "selected = array.array('d')\n",
    "with open('selected.arr', 'rb') as fp:\n",
    "    selected.fromfile(fp, {size})\n",
    "if {container_type} is dict:\n",
    "    haystack = dict.fromkeys(selected, 1)\n",
    "else:\n",
    "    haystack = {container_type}(selected)\n",
    "if {verbose}:\n",
    "    print(type(haystack), end='  ')\n",
    "    print('haystack: %10d' % len(haystack), end='  ')\n",
    "needles = array.array('d')\n",
    "with open('not_selected.arr', 'rb') as fp:\n",
    "    needles.fromfile(fp, 500)\n",
    "needles.extend(selected[::{size}//500])\n",
    "if {verbose}:\n",
    "    print(' needles: %10d' % len(needles), end='  ')\n",
    "'''\n",
    "\n",
    "TEST = '''\n",
    "found = 0\n",
    "for n in needles:\n",
    "    if n in haystack:\n",
    "        found += 1\n",
    "if {verbose}:\n",
    "    print('  found: %10d' % found)\n",
    "'''\n",
    "\n",
    "def test(container_type, verbose):\n",
    "    MAX_EXPONENT = 7\n",
    "    for n in range(3, MAX_EXPONENT + 1):\n",
    "        size = 10**n\n",
    "        setup = SETUP.format(container_type=container_type,\n",
    "                             size=size, verbose=verbose)\n",
    "        test = TEST.format(verbose=verbose)\n",
    "        tt = timeit.repeat(stmt=test, setup=setup, repeat=5, number=1)\n",
    "        print('|{:{}d}|{:f}'.format(size, MAX_EXPONENT + 1, min(tt)))\n",
    "\n",
    "test('dict', False)\n",
    "test('set', False)\n",
    "test('list', False)"
   ]
  },
  {
   "cell_type": "code",
   "execution_count": 16,
   "metadata": {},
   "outputs": [
    {
     "data": {
      "image/png": "[encoded data removed]",
      "text/plain": [
       "<Figure size 418.125x360 with 1 Axes>"
      ]
     },
     "metadata": {
      "needs_background": "light"
     },
     "output_type": "display_data"
    },
    {
     "data": {
      "image/png": "[encoded data removed]",
      "text/plain": [
       "<Figure size 418.125x360 with 1 Axes>"
      ]
     },
     "metadata": {
      "needs_background": "light"
     },
     "output_type": "display_data"
    }
   ],
   "source": [
    "%matplotlib inline\n",
    "\n",
    "import matplotlib.pyplot as plt\n",
    "import numpy as np\n",
    "import pandas as pd\n",
    "import seaborn as sns\n",
    "\n",
    "result = '''|    1000|0.000150\n",
    "|   10000|0.000090\n",
    "|  100000|0.000153\n",
    "| 1000000|0.000298\n",
    "|10000000|0.000499\n",
    "|    1000|0.000084\n",
    "|   10000|0.000093\n",
    "|  100000|0.000146\n",
    "| 1000000|0.000224\n",
    "|10000000|0.000339\n",
    "|    1000|0.006553\n",
    "|   10000|0.067543\n",
    "|  100000|0.688339\n",
    "| 1000000|6.922648\n",
    "|10000000|68.989036'''.split('|')\n",
    "result = list(map(lambda i: float(i.strip()), filter(None, result)))\n",
    "result = np.array(result).reshape(15, 2)\n",
    "\n",
    "df = pd.DataFrame(result, columns=['size', 'time'])\n",
    "df['type'] = np.where(df.index < 5, 'dict', np.where(df.index < 10, 'set', 'list'))\n",
    "sns.relplot(x='size', y='time', hue='type', kind='line', data=df);\n",
    "sns.relplot(x='size', y='time', hue='type', kind='line', data=df[df.type != 'list']);"
   ]
  },
  {
   "cell_type": "markdown",
   "metadata": {},
   "source": [
    "`dict`, `set`은 아주 약간의 차이가 있지만 둘다 엄청 빠르고, 검색이 중요할때 `list`를 쓰면 절대 안되겠다는 결론.\n",
    "\n",
    "마지막 섹션에서 더 논의합니다."
   ]
  },
  {
   "cell_type": "markdown",
   "metadata": {},
   "source": [
    "### Hash table 원리\n",
    "\n",
    "- 보통 1/3 버켓은 empty상태가 되도록 유지\n",
    "- key가 조금만 바뀌어도 해쉬값들은 엄청나게 바뀜 ([실험](https://github.com/fluentpython/example-code/blob/master/03-dict-set/support/hashdiff.py))\n",
    "\n",
    "Insert 하기\n",
    "\n",
    "1. key에 대해서 `hash(key)` 를 불러서 아래 특정 몇 byte 만 사용해서 버켓을 찾습니다.\n",
    "2. 버켓이 비었으면 넣기.\n",
    "3. 버켓이 차있으면 해쉬값의 다른 byte 들을 사용해서 버켓을 찾고, 찾고 계속해서 빈 버켓에 넣는답니다."
   ]
  },
  {
   "cell_type": "markdown",
   "metadata": {},
   "source": [
    "## Practical consequences\n",
    "\n",
    "Practical consequences of `dict`\n",
    "\n",
    "    1. Keys must be hashable\n",
    "    2. dict has significant memory overhead\n",
    "    3. Key search is very fast\n",
    "    4. Key ordering depends on insertion order\n",
    "    5. Adding items to a dict may change orderings of existing keys\n",
    "    \n",
    "Practical consequences of `set`. Basically, same with dict's\n",
    "    \n",
    "    1. Set elements must be hashable\n",
    "    2. set has significant memory overhead\n",
    "    3. Membership testing is very fast\n",
    "    4. Element ordering depends on insertion order\n",
    "    5. Adding items to a set may change orderings of other elements"
   ]
  }
 ],
 "metadata": {
  "kernelspec": {
   "display_name": "Python 3",
   "language": "python",
   "name": "python3"
  },
  "language_info": {
   "codemirror_mode": {
    "name": "ipython",
    "version": 3
   },
   "file_extension": ".py",
   "mimetype": "text/x-python",
   "name": "python",
   "nbconvert_exporter": "python",
   "pygments_lexer": "ipython3",
   "version": "3.7.2"
  }
 },
 "nbformat": 4,
 "nbformat_minor": 2
}
