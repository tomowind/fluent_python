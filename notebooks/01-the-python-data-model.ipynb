{
 "cells": [
  {
   "cell_type": "markdown",
   "metadata": {},
   "source": [
    "# The Python Data Model"
   ]
  },
  {
   "cell_type": "markdown",
   "metadata": {},
   "source": [
    "## Python Data Model == Python Object Model\n",
    "\n",
    "첫 장을 들어가며 가장 궁금한 것이 타이틀입니다. 과연 `Python Data Model`이 뭘까요?\n",
    "\n",
    "[Object model](https://en.wikipedia.org/wiki/Object_model) 의 정의가 `The properties of objects in a specific programming language` 랍니다. 그 정의처럼 파이썬에서 클래스, 오브젝트가 어떤 속성들을 갖는지를 정의한 것입니다.\n",
    "\n",
    "그럼, 왜 Python Object Model이 아니라 Data Model 이라고 부르나요? 관례상 섞어부르는 것 같습니다. [정식문서](https://docs.python.org/3/reference/datamodel.html) 에는 Data Model 이라고 부르네요."
   ]
  },
  {
   "cell_type": "markdown",
   "metadata": {},
   "source": [
    "## Pythonic\n",
    "동시에 자주 나오는 단어가 `Pythonic`입니다. 많이 들어보셨겠지만 잘 모르겠죠? 예제를 봅시다.\n",
    "\n",
    "예제1) 스트링의 길이를 잴 때 어떻게 하나요?"
   ]
  },
  {
   "cell_type": "code",
   "execution_count": 1,
   "metadata": {},
   "outputs": [
    {
     "data": {
      "text/plain": [
       "17"
      ]
     },
     "execution_count": 1,
     "metadata": {},
     "output_type": "execute_result"
    }
   ],
   "source": [
    "len(\"this is my string\")"
   ]
  },
  {
   "cell_type": "markdown",
   "metadata": {},
   "source": [
    "네, 우리는 `len(my_string)`을 사용하지 `my_string.size()`라고 하지 않습니다.\n",
    "\n",
    "에제2) 맵(딕셔너리)에서 키에 해당하는 값을 가져올때에 어떻게 하나요?"
   ]
  },
  {
   "cell_type": "code",
   "execution_count": 2,
   "metadata": {},
   "outputs": [
    {
     "data": {
      "text/plain": [
       "2"
      ]
     },
     "execution_count": 2,
     "metadata": {},
     "output_type": "execute_result"
    }
   ],
   "source": [
    "my_dict = {'my_key1': 2, 'my_key2': 4}\n",
    "my_dict['my_key1']"
   ]
  },
  {
   "cell_type": "markdown",
   "metadata": {},
   "source": [
    "네, 우리는 `my_dict['my_key1']`을 사용하지 `my_dict.get('my_key1')`을 사용하지 않습니다.\n",
    "\n",
    "이렇게, 간단한 [built-in function](https://docs.python.org/3/library/functions.html) 들로 편의성을 가져다주는 파이썬의 속성을 `Pythonic`이라고 합니다.\n",
    "\n",
    "`Python Data Model` 과 `Pythonic` 은 함께 알아두어야 합니다."
   ]
  },
  {
   "cell_type": "markdown",
   "metadata": {},
   "source": [
    "## Example: Pythonic Card Deck\n",
    "\n",
    "`Python Data Model`이란 파이썬의 객체의 속성에 관한 특성이라고 했습니다. 쉽게 풀어쓰자면, 클래스를 정의할 때에 어떤 특별 메소드를 정의하는가입니다.\n",
    "\n",
    "여기서는 `FrenchDeck`이라는 클래스를 정의합니다. `__len__`, `__getitem__` 이라는 특별함수를 재 정의하여, 파이쏘닉한 객체를 만드는 실험을 해보죠."
   ]
  },
  {
   "cell_type": "code",
   "execution_count": 3,
   "metadata": {},
   "outputs": [],
   "source": [
    "import collections\n",
    "\n",
    "Card = collections.namedtuple('Card', ['rank', 'suit'])\n",
    "\n",
    "class FrenchDeck:\n",
    "    ranks = [str(n) for n in range(2, 11)] + list('JQKA')\n",
    "    suits = 'spades diamonds clubs hearts'.split()\n",
    "    \n",
    "    def __init__(self):\n",
    "        self._cards = [Card(rank, suit) for suit in self.suits\n",
    "                       for rank in self.ranks]\n",
    "    \n",
    "    def __len__(self):\n",
    "        return len(self._cards)\n",
    "    \n",
    "    def __getitem__(self, position):\n",
    "        return self._cards[position]"
   ]
  },
  {
   "cell_type": "code",
   "execution_count": 4,
   "metadata": {},
   "outputs": [
    {
     "data": {
      "text/plain": [
       "52"
      ]
     },
     "execution_count": 4,
     "metadata": {},
     "output_type": "execute_result"
    }
   ],
   "source": [
    "deck = FrenchDeck()\n",
    "len(deck)"
   ]
  },
  {
   "cell_type": "code",
   "execution_count": 5,
   "metadata": {},
   "outputs": [
    {
     "name": "stdout",
     "output_type": "stream",
     "text": [
      "Card(rank='2', suit='spades')\n",
      "Card(rank='A', suit='hearts')\n"
     ]
    }
   ],
   "source": [
    "print(deck[0])\n",
    "print(deck[-1])"
   ]
  },
  {
   "cell_type": "code",
   "execution_count": 6,
   "metadata": {},
   "outputs": [
    {
     "name": "stdout",
     "output_type": "stream",
     "text": [
      "Card(rank='2', suit='clubs')\n",
      "Card(rank='2', suit='diamonds')\n",
      "Card(rank='2', suit='hearts')\n",
      "Card(rank='2', suit='spades')\n",
      "Card(rank='3', suit='clubs')\n",
      "\n",
      "Card(rank='K', suit='spades')\n",
      "Card(rank='A', suit='clubs')\n",
      "Card(rank='A', suit='diamonds')\n",
      "Card(rank='A', suit='hearts')\n",
      "Card(rank='A', suit='spades')\n"
     ]
    }
   ],
   "source": [
    "suit_values = dict(spades=3, hearts=2, diamonds=1, clubs=0)\n",
    "\n",
    "def spades_high(card):\n",
    "    rank_value = FrenchDeck.ranks.index(card.rank)\n",
    "    return rank_value * len(suit_values) + suit_values[card.suit]\n",
    "\n",
    "for card in sorted(deck, key=spades_high)[:5]:\n",
    "    print(card)\n",
    "print()\n",
    "for card in sorted(deck, key=spades_high)[-5:]:\n",
    "    print(card)"
   ]
  },
  {
   "cell_type": "markdown",
   "metadata": {},
   "source": [
    "## Example: Vector\n",
    "\n",
    "`Vector` 라는 다른 예제를 줍니다. 여기서는, `__repr__`, `__abs__`, `__bool__`, `__add__`, `__mul__`을 정의합니다.\n",
    "\n",
    "이 예제는 알아두시면, Chapter 9, 10 등에서 다시 사용됩니다."
   ]
  },
  {
   "cell_type": "code",
   "execution_count": 7,
   "metadata": {},
   "outputs": [],
   "source": [
    "from math import hypot\n",
    "\n",
    "class Vector:\n",
    "    def __init__(self, x=0, y=0):\n",
    "        self.x = x\n",
    "        self.y = y\n",
    "        \n",
    "    def __repr__(self):\n",
    "        return f'Vector({self.x!r}, {self.y!r})'\n",
    "    \n",
    "    def __abs__(self):\n",
    "        return hypot(self.x, self.y)\n",
    "    \n",
    "    def __bool__(self):\n",
    "        return bool(abs(self))\n",
    "    \n",
    "    def __add__(self, other):\n",
    "        x = self.x + other.x\n",
    "        y = self.y + other.y\n",
    "        return Vector(x, y)\n",
    "    \n",
    "    def __mul__(self, scalar):\n",
    "        return Vector(self.x * scalar, self.y * scalar)"
   ]
  },
  {
   "cell_type": "code",
   "execution_count": 8,
   "metadata": {},
   "outputs": [
    {
     "data": {
      "text/plain": [
       "Vector(4, 5)"
      ]
     },
     "execution_count": 8,
     "metadata": {},
     "output_type": "execute_result"
    }
   ],
   "source": [
    "v1 = Vector(2, 4)\n",
    "v2 = Vector(2, 1)\n",
    "v1 + v2"
   ]
  },
  {
   "cell_type": "code",
   "execution_count": 9,
   "metadata": {},
   "outputs": [
    {
     "name": "stdout",
     "output_type": "stream",
     "text": [
      "5.0\n",
      "Vector(9, 12)\n",
      "15.0\n"
     ]
    }
   ],
   "source": [
    "v = Vector(3, 4)\n",
    "print(abs(v))\n",
    "print(v * 3)\n",
    "print(abs(v * 3))"
   ]
  },
  {
   "cell_type": "markdown",
   "metadata": {},
   "source": [
    "## repr() vs str()\n",
    "\n",
    "책에서는 [stackoverflow의 첫번째 Alex 의 답변](https://stackoverflow.com/questions/1436703/difference-between-str-and-repr) 이 좋다고 합니다. 저는 두번째 짧은 답변이 더 좋습니다.\n",
    "\n",
    "- `__repr__` is for developers\n",
    "- `__str__` is for customers"
   ]
  },
  {
   "cell_type": "markdown",
   "metadata": {},
   "source": [
    "## Special Methods\n",
    "\n",
    "[정식문서](https://docs.python.org/3/reference/datamodel.html)에 모든 스페셜 메소드들이 다 나옵니다.\n",
    "\n",
    "보통 객체에 대해서 `dir()`이나 `vars()`해서 나오는 언더바 둘 붙은 함수들이 스페셜 메소드들입니다."
   ]
  },
  {
   "cell_type": "code",
   "execution_count": 10,
   "metadata": {},
   "outputs": [
    {
     "data": {
      "text/plain": [
       "['__abs__',\n",
       " '__add__',\n",
       " '__bool__',\n",
       " '__class__',\n",
       " '__delattr__',\n",
       " '__dict__',\n",
       " '__dir__',\n",
       " '__doc__',\n",
       " '__eq__',\n",
       " '__format__',\n",
       " '__ge__',\n",
       " '__getattribute__',\n",
       " '__gt__',\n",
       " '__hash__',\n",
       " '__init__',\n",
       " '__init_subclass__',\n",
       " '__le__',\n",
       " '__lt__',\n",
       " '__module__',\n",
       " '__mul__',\n",
       " '__ne__',\n",
       " '__new__',\n",
       " '__reduce__',\n",
       " '__reduce_ex__',\n",
       " '__repr__',\n",
       " '__setattr__',\n",
       " '__sizeof__',\n",
       " '__str__',\n",
       " '__subclasshook__',\n",
       " '__weakref__']"
      ]
     },
     "execution_count": 10,
     "metadata": {},
     "output_type": "execute_result"
    }
   ],
   "source": [
    "dir(Vector)"
   ]
  },
  {
   "cell_type": "markdown",
   "metadata": {},
   "source": [
    "책은 3.4를 중심으로 써져있기에, 3.5부터 도입된 것들은 나오지 않습니다. 예를들어, 다음 것들이 있습니다.\n",
    "\n",
    "- Coroutine: `object.__await__(self)`\n",
    "- Asynchronous Iterators: `object.__aiter__(self)`\n",
    "- Asynchronous Context Manager: `object.__aenter__(self)`"
   ]
  },
  {
   "cell_type": "markdown",
   "metadata": {},
   "source": [
    "## The Zen of Python\n",
    "\n",
    "`len()`을 조금 더 설명하며 [Zen of Python](https://en.wikipedia.org/wiki/Zen_of_Python)을 언급합니다.\n",
    "\n",
    "`import this` 라는 이스터 에그를 실행하면 나오니 한번씩 읽어두세요."
   ]
  },
  {
   "cell_type": "code",
   "execution_count": 11,
   "metadata": {},
   "outputs": [
    {
     "name": "stdout",
     "output_type": "stream",
     "text": [
      "The Zen of Python, by Tim Peters\n",
      "\n",
      "Beautiful is better than ugly.\n",
      "Explicit is better than implicit.\n",
      "Simple is better than complex.\n",
      "Complex is better than complicated.\n",
      "Flat is better than nested.\n",
      "Sparse is better than dense.\n",
      "Readability counts.\n",
      "Special cases aren't special enough to break the rules.\n",
      "Although practicality beats purity.\n",
      "Errors should never pass silently.\n",
      "Unless explicitly silenced.\n",
      "In the face of ambiguity, refuse the temptation to guess.\n",
      "There should be one-- and preferably only one --obvious way to do it.\n",
      "Although that way may not be obvious at first unless you're Dutch.\n",
      "Now is better than never.\n",
      "Although never is often better than *right* now.\n",
      "If the implementation is hard to explain, it's a bad idea.\n",
      "If the implementation is easy to explain, it may be a good idea.\n",
      "Namespaces are one honking great idea -- let's do more of those!\n"
     ]
    }
   ],
   "source": [
    "import this"
   ]
  }
 ],
 "metadata": {
  "kernelspec": {
   "display_name": "Python 3",
   "language": "python",
   "name": "python3"
  },
  "language_info": {
   "codemirror_mode": {
    "name": "ipython",
    "version": 3
   },
   "file_extension": ".py",
   "mimetype": "text/x-python",
   "name": "python",
   "nbconvert_exporter": "python",
   "pygments_lexer": "ipython3",
   "version": "3.7.2"
  }
 },
 "nbformat": 4,
 "nbformat_minor": 2
}
