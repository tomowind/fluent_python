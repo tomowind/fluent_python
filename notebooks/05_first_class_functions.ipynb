{
 "cells": [
  {
   "cell_type": "markdown",
   "metadata": {},
   "source": [
    "# First-Class Functions"
   ]
  },
  {
   "cell_type": "markdown",
   "metadata": {},
   "source": [
    "## Overview\n",
    "\n",
    "자주 언급되는 단어가 `first class`입니다. `Function as first class object`라고 하는데요. 함수도 객체처럼 쓸 수 있다는 말입니다.\n",
    "\n",
    "보통 Object oriented 언어에서는 클래스를 정의하고, `object = new SomeClass()`형태로만 객체를 사용했었죠?\n",
    "\n",
    "함수형 언어에서는, `def func(): print('abc'); some_var = func` 라는 식으로 함수를 객체처럼 사용할 수 있습니다. 다른 변수를 만들어서 할당해줄 수 있는거죠.\n",
    "\n",
    "이번 단원에서는 파이썬에서의 함수의 속성에 대해서 알아봅니다."
   ]
  },
  {
   "cell_type": "markdown",
   "metadata": {},
   "source": [
    "## Higher-Order Functions, Anonymous Functions\n",
    "\n",
    "이제는 Java 8 에서도 lambda, stream 을 지원하면서 고차원 함수나, 함수형 프로그래밍을 사용하는 것이 일상으로 다가왔습니다. 제가 프로그래밍을 처음 배우던 90년대 후반에서 00년대 중반까지만 해도 수업에서만 접하던 것이라 실제로는 전혀 장점을 깨닫지 못했던 것과 사뭇 다르네요.\n",
    "\n",
    "`Higher-order function`은 함수를 인자로 받는 함수들이고, `anonymous function`은 이름이 없는 함수, 즉, 프로그래밍 언어들에서 `lambda`라고 부르는 것들입니다. 이미 모두가 잘 아시는 개념들일테니 간단한 예제만 보고 넘어가도록 하겠습니다."
   ]
  },
  {
   "cell_type": "code",
   "execution_count": 1,
   "metadata": {},
   "outputs": [
    {
     "data": {
      "text/plain": [
       "['fig', 'apple', 'cherry', 'banana', 'raspberry', 'strawberry']"
      ]
     },
     "execution_count": 1,
     "metadata": {},
     "output_type": "execute_result"
    }
   ],
   "source": [
    "# 두번째 sorted 함수의 인자로 len이라는 함수가 들어갑니다. 함수를 인자로 받는 sorted 는 2차원 함수가 되는거죠!\n",
    "fruits = ['strawberry', 'fig', 'apple', 'cherry', 'raspberry', 'banana']\n",
    "sorted(fruits, key=len)"
   ]
  },
  {
   "cell_type": "code",
   "execution_count": 2,
   "metadata": {},
   "outputs": [
    {
     "data": {
      "text/plain": [
       "['banana', 'apple', 'fig', 'raspberry', 'strawberry', 'cherry']"
      ]
     },
     "execution_count": 2,
     "metadata": {},
     "output_type": "execute_result"
    }
   ],
   "source": [
    "# 두번째 sorted 함수의 인자로 lambda 가 쓰였네요. lambda 는 이름이 없는 함수지만, 인자를 받고 리턴값을 주고 다 하네요!\n",
    "fruits = ['strawberry', 'fig', 'apple', 'cherry', 'raspberry', 'banana']\n",
    "sorted(fruits, key=lambda word: word[::-1])"
   ]
  },
  {
   "cell_type": "markdown",
   "metadata": {},
   "source": [
    "### map, filter\n",
    "\n",
    "이 노트북의 마지막에서도 거론되지만, `map`과 `filter`는 제가 생각하기에는 정말 필요가 없는 함수들입니다. 왜냐하면, list comprehension 으로 거의 모든 것이 다 쉽게 되기 때문이죠 (게다가, 훨씬 읽기 쉽게 됩니다.)\n",
    "\n",
    "예제들을 볼까요?"
   ]
  },
  {
   "cell_type": "code",
   "execution_count": 3,
   "metadata": {},
   "outputs": [
    {
     "data": {
      "text/plain": [
       "[1, 9, 25]"
      ]
     },
     "execution_count": 3,
     "metadata": {},
     "output_type": "execute_result"
    }
   ],
   "source": [
    "# 0~5까지 숫자중 홀수인 숫자를 뽑아 제곱을 합니다.\n",
    "l = list(map(lambda x: x ** 2, filter(lambda x: x % 2, range(6))))\n",
    "l"
   ]
  },
  {
   "cell_type": "code",
   "execution_count": 4,
   "metadata": {},
   "outputs": [
    {
     "data": {
      "text/plain": [
       "[1, 9, 25]"
      ]
     },
     "execution_count": 4,
     "metadata": {},
     "output_type": "execute_result"
    }
   ],
   "source": [
    "# 같은 역할을 하는 코드를 list comprehension 으로 씁니다. 훨씬 보기 쉽지요?\n",
    "l = [i ** 2 for i in range(6) if i % 2]\n",
    "l"
   ]
  },
  {
   "cell_type": "markdown",
   "metadata": {},
   "source": [
    "게다가, [2장에서 살펴봤듯이](02-an-array-of-sequences.ipynb) `map`, `filter`가 list comprehension 에 비해서 대단한 성능향상이 있지도 않습니다. 거의 모든 상황에서 list comprehension 을 사용하라고 권해드립니다."
   ]
  },
  {
   "cell_type": "markdown",
   "metadata": {},
   "source": [
    "### reduce, all, any\n",
    "\n",
    "`reduce`, `all`, `any`는 반면 아직도 잘 쓰이는 함수들입니다. `reduce`는 python 3에서 `functools` 안에 들어가게 되었음을 유의해주세요."
   ]
  },
  {
   "cell_type": "code",
   "execution_count": 5,
   "metadata": {},
   "outputs": [
    {
     "name": "stdout",
     "output_type": "stream",
     "text": [
      "add 1 to 10 is 55\n",
      "mul 1 to 10 is 3628800\n"
     ]
    }
   ],
   "source": [
    "# reduce(add, list) 는 sum()으로 대체 가능하지만, reduce(mul, list) 는 대체자가 없어서 유용하죠.\n",
    "from functools import reduce\n",
    "from operator import add, mul\n",
    "print(f'add 1 to 10 is {reduce(add, range(1, 11))}')\n",
    "print(f'mul 1 to 10 is {reduce(mul, range(1, 11))}')"
   ]
  },
  {
   "cell_type": "code",
   "execution_count": 6,
   "metadata": {},
   "outputs": [
    {
     "name": "stdout",
     "output_type": "stream",
     "text": [
      "Are these all berries? False\n",
      "Are there any berries? True\n"
     ]
    }
   ],
   "source": [
    "# all(), any()도 유용합니다.\n",
    "fruits = ['strawberry', 'fig', 'apple', 'cherry', 'raspberry', 'banana']\n",
    "print(f'Are these all berries? {all(\"berry\" in fruit for fruit in fruits)}')\n",
    "print(f'Are there any berries? {any(\"berry\" in fruit for fruit in fruits)}')"
   ]
  },
  {
   "cell_type": "markdown",
   "metadata": {},
   "source": [
    "## The Seven Flavors of Callable Objects\n",
    "\n",
    "| Index | Method | Desc |\n",
    "|--|--|--|\n",
    "| 1 | User-defined functions | Created with `def` statements or `lambda` expressions |\n",
    "| 2 | Built-in functions | A function implemented in C, like `len` or `time.strftime` |\n",
    "| 3 | Built-in methods | Methods implemented in C, like `dict.get` |\n",
    "| 4 | Methods | Functions defined in the body of a class |\n",
    "| 5 | Classes | Since there is no `new` operator in python, `__new__` and `__init__` are called, when invoked |\n",
    "| 6 | Class instances | `__call__` method is called |\n",
    "| 7 | Generator functions | Functions or methods that uses the `yield` keyword |"
   ]
  },
  {
   "cell_type": "markdown",
   "metadata": {},
   "source": [
    "## Function Properties\n",
    "\n",
    "이부분이 뭔가 정리가 잘 안되어있는 섹션인데요. 최대한 다음과 같이 정리해보겠습니다.\n",
    "\n",
    "- Function introspection\n",
    "- From positional to keyword parameters (`*`, `*args`, `**kwargs`)\n",
    "- Retrieving information about parameters (`inspect` module)\n",
    "- Differences: `decorator`, `annotation`, `closure`\n",
    "- Function annotations (`typing` module)"
   ]
  },
  {
   "cell_type": "markdown",
   "metadata": {},
   "source": [
    "### Function introspection\n",
    "\n",
    "함수가 내부적으로 어떤 내부 메소드들로 이루어져있는지 살펴보겠습니다. [3장에서 알려줬었죠?](03-dictionaries-and-sets.ipynb) `dir()` 이나 `vars()`를 사용하면 된다고?"
   ]
  },
  {
   "cell_type": "code",
   "execution_count": 7,
   "metadata": {
    "scrolled": true
   },
   "outputs": [
    {
     "data": {
      "text/plain": [
       "['__annotations__',\n",
       " '__call__',\n",
       " '__class__',\n",
       " '__closure__',\n",
       " '__code__',\n",
       " '__defaults__',\n",
       " '__delattr__',\n",
       " '__dict__',\n",
       " '__dir__',\n",
       " '__doc__',\n",
       " '__eq__',\n",
       " '__format__',\n",
       " '__ge__',\n",
       " '__get__',\n",
       " '__getattribute__',\n",
       " '__globals__',\n",
       " '__gt__',\n",
       " '__hash__',\n",
       " '__init__',\n",
       " '__init_subclass__',\n",
       " '__kwdefaults__',\n",
       " '__le__',\n",
       " '__lt__',\n",
       " '__module__',\n",
       " '__name__',\n",
       " '__ne__',\n",
       " '__new__',\n",
       " '__qualname__',\n",
       " '__reduce__',\n",
       " '__reduce_ex__',\n",
       " '__repr__',\n",
       " '__setattr__',\n",
       " '__sizeof__',\n",
       " '__str__',\n",
       " '__subclasshook__']"
      ]
     },
     "execution_count": 7,
     "metadata": {},
     "output_type": "execute_result"
    }
   ],
   "source": [
    "# 일반적인 함수에는 다음 메소드들이 있데요.\n",
    "def factorial(n):\n",
    "    return 1 if n < 2 else n * factorial(n-1)\n",
    "\n",
    "dir(factorial)"
   ]
  },
  {
   "cell_type": "code",
   "execution_count": 8,
   "metadata": {},
   "outputs": [
    {
     "data": {
      "text/plain": [
       "['__annotations__',\n",
       " '__call__',\n",
       " '__closure__',\n",
       " '__code__',\n",
       " '__defaults__',\n",
       " '__get__',\n",
       " '__globals__',\n",
       " '__kwdefaults__',\n",
       " '__name__',\n",
       " '__qualname__']"
      ]
     },
     "execution_count": 8,
     "metadata": {},
     "output_type": "execute_result"
    }
   ],
   "source": [
    "# 함수가 클래스 객체보다 더 많은 메소드들을 가집니다.\n",
    "# 책에서는 각각에 대해서 많이 설명하는데, 이중에 __closure__ 는 이 노트북 뒤에서 조금 더 말씀드리겠습니다.\n",
    "class C: pass\n",
    "obj = C()\n",
    "def func(): pass\n",
    "sorted(set(dir(func)) - set(dir(obj)))"
   ]
  },
  {
   "cell_type": "markdown",
   "metadata": {},
   "source": [
    "### From positional to keyword parameters (`*`, `*args`, `**kwargs`)\n",
    "\n",
    "`*args`, `**kwargs`는 다른 언어에서도 많이쓰이는 argument, keyword argument 들이죠.\n",
    "\n",
    "제가 python 3 에서 한참 헷갈렸던 문법이 * 입니다. argument list 중간에 `*`를 넣어버리면, 그 이후의 argument 들은 전부 keyword only 로 사용해야 한다는 문법이죠."
   ]
  },
  {
   "cell_type": "code",
   "execution_count": 9,
   "metadata": {},
   "outputs": [],
   "source": [
    "def f(a, *, b):\n",
    "    return a, b"
   ]
  },
  {
   "cell_type": "code",
   "execution_count": 10,
   "metadata": {},
   "outputs": [
    {
     "name": "stdout",
     "output_type": "stream",
     "text": [
      "f() takes 1 positional argument but 2 were given\n"
     ]
    }
   ],
   "source": [
    "# 이렇게 하면 에러입니다.\n",
    "try:\n",
    "    f(1, 2)\n",
    "except TypeError as e:\n",
    "    print(e)"
   ]
  },
  {
   "cell_type": "code",
   "execution_count": 11,
   "metadata": {},
   "outputs": [
    {
     "data": {
      "text/plain": [
       "(1, 2)"
      ]
     },
     "execution_count": 11,
     "metadata": {},
     "output_type": "execute_result"
    }
   ],
   "source": [
    "# 이렇게 해야 되지요.\n",
    "f(1, b=2)"
   ]
  },
  {
   "cell_type": "markdown",
   "metadata": {},
   "source": [
    "### Retrieving information about parameters (`inspect` module)\n",
    "\n",
    "함수의 input, output 를 조사할 수 있는 방법을 알아봅니다. `inspect`모듈을 사용하면 되네요."
   ]
  },
  {
   "cell_type": "code",
   "execution_count": 12,
   "metadata": {},
   "outputs": [],
   "source": [
    "def clip(text, max_len=80):\n",
    "    return ''"
   ]
  },
  {
   "cell_type": "code",
   "execution_count": 13,
   "metadata": {},
   "outputs": [
    {
     "name": "stdout",
     "output_type": "stream",
     "text": [
      "<Signature (text, max_len=80)>\n",
      "(text, max_len=80)\n",
      "POSITIONAL_OR_KEYWORD : text = <class 'inspect._empty'>\n",
      "POSITIONAL_OR_KEYWORD : max_len = 80\n"
     ]
    }
   ],
   "source": [
    "from inspect import signature\n",
    "sig = signature(clip)\n",
    "print(repr(sig))\n",
    "print(sig)\n",
    "for name, param in sig.parameters.items():\n",
    "    print(param.kind, ':', name, '=', param.default)"
   ]
  },
  {
   "cell_type": "markdown",
   "metadata": {},
   "source": [
    "### Differences: `decorator`, `annotation`, `closure`\n",
    "\n",
    "파이썬에서 헷갈리던 용어들입니다.\n",
    "\n",
    "| 무엇 | 설명 |\n",
    "|--|--|\n",
    "| decorator | @lru_cache, @wraps 같은 함수 위에 붙이는 것들입니다. [7장](07-function-decorators-and-closures.ipynb) 에서 다룹니다.|\n",
    "| closure | 함수 내부에서 정의되고 사용하는 함수를 말합니다. (설명이 어려워요.) 역시, [7장](07-function-decorators-and-closures.ipynb) 에서 다룹니다.|\n",
    "| annotation | 이게 Java 에서는 @을 사용하는 것을 지칭해서 헷갈립니다. 파이썬에서는 function 에 타입을 붙여주는걸 말합니다. |"
   ]
  },
  {
   "cell_type": "markdown",
   "metadata": {},
   "source": [
    "### Function annotations (`typing` module)\n",
    "\n",
    "위에서 말한 함수에 타입을 붙여주는 것을 말합니다. 여기서는 기본 타입만 인자로 받고 반환하지만, `List`등을 받거나 반환한다면, `typing.List`등을 사용하셔야 합니다."
   ]
  },
  {
   "cell_type": "code",
   "execution_count": 14,
   "metadata": {},
   "outputs": [],
   "source": [
    "# 위의 clip과 달리 인자들에 타입이 붙어있죠.\n",
    "def clip(text: str, max_len: 'int > 0'=80) -> str:\n",
    "    return ''"
   ]
  },
  {
   "cell_type": "code",
   "execution_count": 15,
   "metadata": {},
   "outputs": [
    {
     "data": {
      "text/plain": [
       "{'text': str, 'max_len': 'int > 0', 'return': str}"
      ]
     },
     "execution_count": 15,
     "metadata": {},
     "output_type": "execute_result"
    }
   ],
   "source": [
    "clip.__annotations__"
   ]
  },
  {
   "cell_type": "code",
   "execution_count": 16,
   "metadata": {},
   "outputs": [
    {
     "name": "stdout",
     "output_type": "stream",
     "text": [
      "<class 'str'>\n",
      "<class 'str'> : text = <class 'inspect._empty'>\n",
      "'int > 0'     : max_len = 80\n"
     ]
    }
   ],
   "source": [
    "from inspect import signature\n",
    "sig = signature(clip)\n",
    "print(sig.return_annotation)\n",
    "for param in sig.parameters.values():\n",
    "    note = repr(param.annotation).ljust(13)\n",
    "    print(note, ':', param.name, '=', param.default)"
   ]
  },
  {
   "cell_type": "markdown",
   "metadata": {},
   "source": [
    "## Packages for Functional Programming\n",
    "- `operator`\n",
    "- `functools`"
   ]
  },
  {
   "cell_type": "markdown",
   "metadata": {},
   "source": [
    "### operator 모듈: `itemgetter`, `attrgetter`\n",
    "\n",
    "`operator`의 `add`, `mul`은 위에서 잘 알아보았습니다. 이제는 `itemgetter`, `attrgetter`를 알아봅시다."
   ]
  },
  {
   "cell_type": "code",
   "execution_count": 17,
   "metadata": {},
   "outputs": [
    {
     "data": {
      "text/plain": [
       "[('Tokyo', 'JP', 36.933, (35.689722, 139.691667)),\n",
       " ('Delhi NCR', 'IN', 21.935, (28.613889, 77.208889)),\n",
       " ('Mexico City', 'MX', 20.142, (19.433333, -99.133333)),\n",
       " ('New York-Newark', 'US', 20.104, (40.808611, -74.020386)),\n",
       " ('Sao Paulo', 'BR', 19.649, (-23.547778, -46.635833))]"
      ]
     },
     "execution_count": 17,
     "metadata": {},
     "output_type": "execute_result"
    }
   ],
   "source": [
    "metro_data = [\n",
    "    ('Tokyo', 'JP', 36.933, (35.689722, 139.691667)),\n",
    "    ('Delhi NCR', 'IN', 21.935, (28.613889, 77.208889)),\n",
    "    ('Mexico City', 'MX', 20.142, (19.433333, -99.133333)),\n",
    "    ('New York-Newark', 'US', 20.104, (40.808611, -74.020386)),\n",
    "    ('Sao Paulo', 'BR', 19.649, (-23.547778, -46.635833))]\n",
    "metro_data"
   ]
  },
  {
   "cell_type": "code",
   "execution_count": 18,
   "metadata": {},
   "outputs": [
    {
     "name": "stdout",
     "output_type": "stream",
     "text": [
      "('JP', 'Tokyo')\n",
      "('IN', 'Delhi NCR')\n",
      "('MX', 'Mexico City')\n",
      "('US', 'New York-Newark')\n",
      "('BR', 'Sao Paulo')\n"
     ]
    }
   ],
   "source": [
    "from operator import itemgetter\n",
    "cc_name = itemgetter(1, 0)\n",
    "for city in metro_data:\n",
    "    print(cc_name(city))"
   ]
  },
  {
   "cell_type": "code",
   "execution_count": 19,
   "metadata": {},
   "outputs": [
    {
     "name": "stdout",
     "output_type": "stream",
     "text": [
      "[Metropolis(name='Tokyo', cc='JP', pop=36.933, coord=LatLong(lat=35.689722, long=139.691667)),\n",
      " Metropolis(name='Delhi NCR', cc='IN', pop=21.935, coord=LatLong(lat=28.613889, long=77.208889)),\n",
      " Metropolis(name='Mexico City', cc='MX', pop=20.142, coord=LatLong(lat=19.433333, long=-99.133333)),\n",
      " Metropolis(name='New York-Newark', cc='US', pop=20.104, coord=LatLong(lat=40.808611, long=-74.020386)),\n",
      " Metropolis(name='Sao Paulo', cc='BR', pop=19.649, coord=LatLong(lat=-23.547778, long=-46.635833))]\n"
     ]
    }
   ],
   "source": [
    "from pprint import pprint\n",
    "from collections import namedtuple\n",
    "LatLong = namedtuple('LatLong', 'lat long')\n",
    "Metropolis = namedtuple('Metropolis', 'name cc pop coord')\n",
    "metro_areas = [Metropolis(name, cc, pop, LatLong(lat, long))\n",
    "               for name, cc, pop, (lat, long) in metro_data]\n",
    "pprint(metro_areas)"
   ]
  },
  {
   "cell_type": "code",
   "execution_count": 20,
   "metadata": {},
   "outputs": [
    {
     "name": "stdout",
     "output_type": "stream",
     "text": [
      "('Sao Paulo', -23.547778)\n",
      "('Mexico City', 19.433333)\n",
      "('Delhi NCR', 28.613889)\n",
      "('Tokyo', 35.689722)\n",
      "('New York-Newark', 40.808611)\n"
     ]
    }
   ],
   "source": [
    "from operator import attrgetter\n",
    "name_lat = attrgetter('name', 'coord.lat')\n",
    "for city in sorted(metro_areas, key=attrgetter('coord.lat')):\n",
    "    print(name_lat(city))"
   ]
  },
  {
   "cell_type": "markdown",
   "metadata": {},
   "source": [
    "### functools 모듈: `partial`\n",
    "\n",
    "`functools`는 정말 많이 재미있게 쓰이는 모듈입니다. [7장](07-function-decorators-and-closures.ipynb)에서도 많이 다룰텐데요, 여기서는 `partial`만 알아보지요."
   ]
  },
  {
   "cell_type": "code",
   "execution_count": 21,
   "metadata": {},
   "outputs": [
    {
     "data": {
      "text/plain": [
       "21"
      ]
     },
     "execution_count": 21,
     "metadata": {},
     "output_type": "execute_result"
    }
   ],
   "source": [
    "from operator import mul\n",
    "from functools import partial\n",
    "triple = partial(mul, 3)\n",
    "triple(7)"
   ]
  },
  {
   "cell_type": "code",
   "execution_count": 22,
   "metadata": {},
   "outputs": [
    {
     "data": {
      "text/plain": [
       "[3, 6, 9, 12, 15, 18, 21, 24, 27]"
      ]
     },
     "execution_count": 22,
     "metadata": {},
     "output_type": "execute_result"
    }
   ],
   "source": [
    "[triple(i) for i in range(1, 10)]"
   ]
  },
  {
   "cell_type": "markdown",
   "metadata": {},
   "source": [
    "## Soapbox\n",
    "\n",
    "단원의 마지막에 재미있는 부분이 있어서 가져왔습니다.\n",
    "\n",
    "파이썬은 함수형 언어인가요? *Is Python a Functional Language?* 라는 질문은 했다는데요. 귀도(파이썬 창시자)가 이렇게 답했다네요.\n",
    "\n",
    "    Everything that is good in Python was stolen from other languages. \n",
    "    - Guido van Rossum\n",
    "\n",
    "덧붙여 저자가 이런 설명들을 붙입니다. (제가 위에서 `map`, `filter`에 대해서 언급했었죠.)\n",
    "\n",
    "`lambda`, `map`, `filter` and `reduce` first appeared in Lisp. Ironically, stealing the list comprehension syntax from another functional langauge -- Haskell -- significantly diminised the need for `map` and `filter`, and also for `lambda`."
   ]
  }
 ],
 "metadata": {
  "kernelspec": {
   "display_name": "Python 3",
   "language": "python",
   "name": "python3"
  },
  "language_info": {
   "codemirror_mode": {
    "name": "ipython",
    "version": 3
   },
   "file_extension": ".py",
   "mimetype": "text/x-python",
   "name": "python",
   "nbconvert_exporter": "python",
   "pygments_lexer": "ipython3",
   "version": "3.7.2"
  }
 },
 "nbformat": 4,
 "nbformat_minor": 2
}
