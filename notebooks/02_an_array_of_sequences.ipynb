{
 "cells": [
  {
   "cell_type": "markdown",
   "metadata": {},
   "source": [
    "# An Array of Sequences"
   ]
  },
  {
   "cell_type": "markdown",
   "metadata": {},
   "source": [
    "## Overview\n",
    "\n",
    "이 장에서 다룰 것들은 시퀀스. 즉, 순서대로 물건을 담을수 있는 자료구조를 다룹니다.\n",
    "\n",
    "그 자료구조들 중, \"여러가지를 담을수 있느냐\", \"한 종류만 다룰수 있느냐\"를 가지고 나누면 이렇게 됩니다.\n",
    "\n",
    "| Type | Sequences |\n",
    "|------|-----------|\n",
    "| Container | list, tuple, collections.deque |\n",
    "| Flat | str, bytes, bytearray, memoryview, array.array |\n",
    "\n",
    "다른 기준으로는, \"담은 내용물을 나중에 바꿀수 있느냐\"를 기준으로 나누면 이렇게 됩니다.\n",
    "\n",
    "| Type | Sequences |\n",
    "|------|-----------|\n",
    "| Mutable | list, bytearray, array.array, collections.deque, memoryview |\n",
    "| Immutable | tuple, str, bytes |"
   ]
  },
  {
   "cell_type": "markdown",
   "metadata": {},
   "source": [
    "## List Comprehension\n",
    "\n",
    "1장에서 배운 Pythonic ([built-in function](https://docs.python.org/3/library/functions.html)으로 편리하게 만드는 것)과 함께 파이썬을 강력하게 만드는 다른 한 축이 List Comprehension 이라고 생각합니다.\n",
    "\n",
    "sequence 관련 연산을 one-liner 로 많이 만들여주죠. 예제들을 봅시다."
   ]
  },
  {
   "cell_type": "code",
   "execution_count": 1,
   "metadata": {},
   "outputs": [
    {
     "data": {
      "text/plain": [
       "[33, 64, 35, 36, 37, 94, 38, 42]"
      ]
     },
     "execution_count": 1,
     "metadata": {},
     "output_type": "execute_result"
    }
   ],
   "source": [
    "# List Comprehension 사용하지 않음\n",
    "symbols = '!@#$%^&*'\n",
    "codes = []\n",
    "for symbol in symbols:\n",
    "    codes.append(ord(symbol))\n",
    "codes"
   ]
  },
  {
   "cell_type": "code",
   "execution_count": 2,
   "metadata": {},
   "outputs": [
    {
     "data": {
      "text/plain": [
       "[33, 64, 35, 36, 37, 94, 38, 42]"
      ]
     },
     "execution_count": 2,
     "metadata": {},
     "output_type": "execute_result"
    }
   ],
   "source": [
    "# List Comprehension 사용\n",
    "symbols = '!@#$%^&*'\n",
    "codes = [ord(symbol) for symbol in symbols]\n",
    "codes"
   ]
  },
  {
   "cell_type": "markdown",
   "metadata": {},
   "source": [
    "`map()`, `filter()`를 사용해도 같은 효과를 냅니다."
   ]
  },
  {
   "cell_type": "code",
   "execution_count": 3,
   "metadata": {},
   "outputs": [
    {
     "data": {
      "text/plain": [
       "[33, 64, 35, 36, 37, 94, 38, 42]"
      ]
     },
     "execution_count": 3,
     "metadata": {},
     "output_type": "execute_result"
    }
   ],
   "source": [
    "codes = list(map(ord, symbols))\n",
    "codes"
   ]
  },
  {
   "cell_type": "markdown",
   "metadata": {},
   "source": [
    "단, `map()`, `filter()`를 사용하는것이 더 빠르지는 않다고하네요. 실험해볼까요?"
   ]
  },
  {
   "cell_type": "code",
   "execution_count": 4,
   "metadata": {},
   "outputs": [
    {
     "name": "stdout",
     "output_type": "stream",
     "text": [
      "listcomp        : 0.012 0.013 0.011 0.009 0.010\n",
      "listcomp + func : 0.014 0.017 0.014 0.014 0.013\n",
      "filter + lambda : 0.012 0.012 0.012 0.012 0.012\n",
      "filter + func   : 0.011 0.011 0.011 0.011 0.012\n"
     ]
    }
   ],
   "source": [
    "# https://github.com/fluentpython/example-code/blob/master/02-array-seq/listcomp_speed.py\n",
    "\n",
    "import timeit\n",
    "\n",
    "TIMES = 10000\n",
    "\n",
    "SETUP = \"\"\"\n",
    "symbols = '$¢£¥€¤'\n",
    "def non_ascii(c):\n",
    "    return c > 127\n",
    "\"\"\"\n",
    "\n",
    "def clock(label, cmd):\n",
    "    res = timeit.repeat(cmd, setup=SETUP, number=TIMES)\n",
    "    print(label, *(f'{x:.3f}' for x in res))\n",
    "\n",
    "clock('listcomp        :', '[ord(s) for s in symbols if ord(s) > 127]')\n",
    "clock('listcomp + func :', '[ord(s) for s in symbols if non_ascii(ord(s))]')\n",
    "clock('filter + lambda :', 'list(filter(lambda c: c > 127, map(ord, symbols)))')\n",
    "clock('filter + func   :', 'list(filter(non_ascii, map(ord, symbols)))')"
   ]
  },
  {
   "cell_type": "markdown",
   "metadata": {},
   "source": [
    "아주 약간 빠르기는 빠르네요. 하지만, 성능의 차이가 있다고 할 만큼은 아닌 것 같습니다.\n",
    "\n",
    "다음으로, cartesian product 를 해야 하는 경우를 살펴보겠습니다. 다른 color, size 의 t-shirt 쌍을 만든다고 해봅시다.\n",
    "\n",
    "    (black, S)\n",
    "    (black, M)\n",
    "    (black, L)\n",
    "    (white, S)\n",
    "    (white, M)\n",
    "    (white, L)\n",
    "    \n",
    "간단히 이렇게 할 수 있겠죠."
   ]
  },
  {
   "cell_type": "code",
   "execution_count": 5,
   "metadata": {},
   "outputs": [
    {
     "data": {
      "text/plain": [
       "[('black', 'S'),\n",
       " ('black', 'M'),\n",
       " ('black', 'L'),\n",
       " ('white', 'S'),\n",
       " ('white', 'M'),\n",
       " ('white', 'L')]"
      ]
     },
     "execution_count": 5,
     "metadata": {},
     "output_type": "execute_result"
    }
   ],
   "source": [
    "colors = ['black', 'white']\n",
    "sizes = ['S', 'M', 'L']\n",
    "tshirts = []\n",
    "for color in colors:\n",
    "    for size in sizes:\n",
    "        tshirts.append((color, size))\n",
    "tshirts"
   ]
  },
  {
   "cell_type": "markdown",
   "metadata": {},
   "source": [
    "`itertools`라는 좋은 패키기가 있습니다."
   ]
  },
  {
   "cell_type": "code",
   "execution_count": 6,
   "metadata": {},
   "outputs": [
    {
     "data": {
      "text/plain": [
       "[('black', 'S'),\n",
       " ('black', 'M'),\n",
       " ('black', 'L'),\n",
       " ('white', 'S'),\n",
       " ('white', 'M'),\n",
       " ('white', 'L')]"
      ]
     },
     "execution_count": 6,
     "metadata": {},
     "output_type": "execute_result"
    }
   ],
   "source": [
    "import itertools\n",
    "tshirts = []\n",
    "for color, size in itertools.product(colors, sizes):\n",
    "    tshirts.append((color, size))\n",
    "tshirts"
   ]
  },
  {
   "cell_type": "markdown",
   "metadata": {},
   "source": [
    "하지만, 가장 읽기 쉬운것은 List Comprehension 입니다!"
   ]
  },
  {
   "cell_type": "code",
   "execution_count": 7,
   "metadata": {},
   "outputs": [
    {
     "data": {
      "text/plain": [
       "[('black', 'S'),\n",
       " ('black', 'M'),\n",
       " ('black', 'L'),\n",
       " ('white', 'S'),\n",
       " ('white', 'M'),\n",
       " ('white', 'L')]"
      ]
     },
     "execution_count": 7,
     "metadata": {},
     "output_type": "execute_result"
    }
   ],
   "source": [
    "tshirts = [(color, size) for color in colors for size in sizes]\n",
    "tshirts"
   ]
  },
  {
   "cell_type": "markdown",
   "metadata": {},
   "source": [
    "## Tuple and Immutability\n",
    "    \n",
    "튜플은 기본적으로 *immutable* 자료구조입니다. 책에 그에 관해 여러 예제를 주니 그냥 가볍게 읽어보시면 되겠습니다.\n",
    "\n",
    "왜 튜플 섹션에 있는지 모르겠지만, `*`를 사용한 unpacking 은 재밌습니다."
   ]
  },
  {
   "cell_type": "code",
   "execution_count": 8,
   "metadata": {},
   "outputs": [
    {
     "name": "stdout",
     "output_type": "stream",
     "text": [
      "0 1 [2, 3, 4]\n",
      "0 1 [2]\n",
      "0 1 []\n"
     ]
    }
   ],
   "source": [
    "a, b, *rest = range(5)\n",
    "print(a, b, rest)\n",
    "a, b, *rest = range(3)\n",
    "print(a, b, rest)\n",
    "a, b, *rest = range(2)\n",
    "print(a, b, rest)"
   ]
  },
  {
   "cell_type": "markdown",
   "metadata": {},
   "source": [
    "### NamedTuple\n",
    "\n",
    "`collections.namedtuple` 은 아주 자주쓰이죠. 힘들게 `class`를 정의 할 필요없이, one-liner로 많이 씁니다."
   ]
  },
  {
   "cell_type": "code",
   "execution_count": 9,
   "metadata": {},
   "outputs": [
    {
     "name": "stdout",
     "output_type": "stream",
     "text": [
      "City(name='Tokyo', country='JP', population=36.933, coordinates=(35.689722, 139.691667))\n",
      "36.933\n",
      "(35.689722, 139.691667)\n"
     ]
    }
   ],
   "source": [
    "from collections import namedtuple\n",
    "City = namedtuple('City', 'name country population coordinates')\n",
    "tokyo = City('Tokyo', 'JP', 36.933, (35.689722, 139.691667))\n",
    "print(tokyo)\n",
    "print(tokyo.population)\n",
    "print(tokyo.coordinates)"
   ]
  },
  {
   "cell_type": "markdown",
   "metadata": {},
   "source": [
    "## Slicing\n",
    "\n",
    "파이썬의 슬라이싱은 재미있는게 많습니다. 기본적인 것들 몇개를 드리겠습니다."
   ]
  },
  {
   "cell_type": "code",
   "execution_count": 10,
   "metadata": {},
   "outputs": [
    {
     "name": "stdout",
     "output_type": "stream",
     "text": [
      "[10, 20, 30, 40, 50, 60]\n",
      "[10, 20]\n",
      "[30, 40, 50, 60]\n",
      "[10, 30, 50]\n",
      "[60, 50, 40, 30, 20, 10]\n"
     ]
    }
   ],
   "source": [
    "l = list(range(10, 70, 10))\n",
    "print(l)\n",
    "print(l[:2])\n",
    "print(l[2:])\n",
    "print(l[::2])\n",
    "print(l[::-1])"
   ]
  },
  {
   "cell_type": "markdown",
   "metadata": {},
   "source": [
    "`Numpy`는 multi-dimensional array 의 slicing 도 합니다. 알아두시면 좋죠."
   ]
  },
  {
   "cell_type": "code",
   "execution_count": 11,
   "metadata": {},
   "outputs": [
    {
     "name": "stdout",
     "output_type": "stream",
     "text": [
      "[[ 0  1  2  3]\n",
      " [ 4  5  6  7]\n",
      " [ 8  9 10 11]]\n",
      "[1 5 9]\n",
      "[4 5 6 7]\n"
     ]
    }
   ],
   "source": [
    "import numpy as np\n",
    "l = np.array(range(12)).reshape(3, 4)\n",
    "print(l)\n",
    "print(l[:, 1])\n",
    "print(l[1, :])"
   ]
  },
  {
   "cell_type": "markdown",
   "metadata": {},
   "source": [
    "`Pandas`의 슬라이싱도 알아두세요."
   ]
  },
  {
   "cell_type": "code",
   "execution_count": 12,
   "metadata": {},
   "outputs": [
    {
     "data": {
      "text/html": [
       "<div>\n",
       "<style scoped>\n",
       "    .dataframe tbody tr th:only-of-type {\n",
       "        vertical-align: middle;\n",
       "    }\n",
       "\n",
       "    .dataframe tbody tr th {\n",
       "        vertical-align: top;\n",
       "    }\n",
       "\n",
       "    .dataframe thead th {\n",
       "        text-align: right;\n",
       "    }\n",
       "</style>\n",
       "<table border=\"1\" class=\"dataframe\">\n",
       "  <thead>\n",
       "    <tr style=\"text-align: right;\">\n",
       "      <th></th>\n",
       "      <th>A</th>\n",
       "      <th>B</th>\n",
       "      <th>C</th>\n",
       "      <th>D</th>\n",
       "    </tr>\n",
       "  </thead>\n",
       "  <tbody>\n",
       "    <tr>\n",
       "      <th>0</th>\n",
       "      <td>0</td>\n",
       "      <td>1</td>\n",
       "      <td>2</td>\n",
       "      <td>3</td>\n",
       "    </tr>\n",
       "    <tr>\n",
       "      <th>1</th>\n",
       "      <td>4</td>\n",
       "      <td>5</td>\n",
       "      <td>6</td>\n",
       "      <td>7</td>\n",
       "    </tr>\n",
       "    <tr>\n",
       "      <th>2</th>\n",
       "      <td>8</td>\n",
       "      <td>9</td>\n",
       "      <td>10</td>\n",
       "      <td>11</td>\n",
       "    </tr>\n",
       "  </tbody>\n",
       "</table>\n",
       "</div>"
      ],
      "text/plain": [
       "   A  B   C   D\n",
       "0  0  1   2   3\n",
       "1  4  5   6   7\n",
       "2  8  9  10  11"
      ]
     },
     "metadata": {},
     "output_type": "display_data"
    },
    {
     "data": {
      "text/html": [
       "<div>\n",
       "<style scoped>\n",
       "    .dataframe tbody tr th:only-of-type {\n",
       "        vertical-align: middle;\n",
       "    }\n",
       "\n",
       "    .dataframe tbody tr th {\n",
       "        vertical-align: top;\n",
       "    }\n",
       "\n",
       "    .dataframe thead th {\n",
       "        text-align: right;\n",
       "    }\n",
       "</style>\n",
       "<table border=\"1\" class=\"dataframe\">\n",
       "  <thead>\n",
       "    <tr style=\"text-align: right;\">\n",
       "      <th></th>\n",
       "      <th>B</th>\n",
       "      <th>D</th>\n",
       "    </tr>\n",
       "  </thead>\n",
       "  <tbody>\n",
       "    <tr>\n",
       "      <th>0</th>\n",
       "      <td>1</td>\n",
       "      <td>3</td>\n",
       "    </tr>\n",
       "    <tr>\n",
       "      <th>1</th>\n",
       "      <td>5</td>\n",
       "      <td>7</td>\n",
       "    </tr>\n",
       "    <tr>\n",
       "      <th>2</th>\n",
       "      <td>9</td>\n",
       "      <td>11</td>\n",
       "    </tr>\n",
       "  </tbody>\n",
       "</table>\n",
       "</div>"
      ],
      "text/plain": [
       "   B   D\n",
       "0  1   3\n",
       "1  5   7\n",
       "2  9  11"
      ]
     },
     "metadata": {},
     "output_type": "display_data"
    },
    {
     "data": {
      "text/plain": [
       "A    4\n",
       "B    5\n",
       "C    6\n",
       "D    7\n",
       "Name: 1, dtype: int64"
      ]
     },
     "metadata": {},
     "output_type": "display_data"
    },
    {
     "data": {
      "text/html": [
       "<div>\n",
       "<style scoped>\n",
       "    .dataframe tbody tr th:only-of-type {\n",
       "        vertical-align: middle;\n",
       "    }\n",
       "\n",
       "    .dataframe tbody tr th {\n",
       "        vertical-align: top;\n",
       "    }\n",
       "\n",
       "    .dataframe thead th {\n",
       "        text-align: right;\n",
       "    }\n",
       "</style>\n",
       "<table border=\"1\" class=\"dataframe\">\n",
       "  <thead>\n",
       "    <tr style=\"text-align: right;\">\n",
       "      <th></th>\n",
       "      <th>A</th>\n",
       "      <th>B</th>\n",
       "      <th>C</th>\n",
       "      <th>D</th>\n",
       "    </tr>\n",
       "  </thead>\n",
       "  <tbody>\n",
       "    <tr>\n",
       "      <th>1</th>\n",
       "      <td>4</td>\n",
       "      <td>5</td>\n",
       "      <td>6</td>\n",
       "      <td>7</td>\n",
       "    </tr>\n",
       "    <tr>\n",
       "      <th>2</th>\n",
       "      <td>8</td>\n",
       "      <td>9</td>\n",
       "      <td>10</td>\n",
       "      <td>11</td>\n",
       "    </tr>\n",
       "  </tbody>\n",
       "</table>\n",
       "</div>"
      ],
      "text/plain": [
       "   A  B   C   D\n",
       "1  4  5   6   7\n",
       "2  8  9  10  11"
      ]
     },
     "metadata": {},
     "output_type": "display_data"
    },
    {
     "data": {
      "text/plain": [
       "A    4\n",
       "B    5\n",
       "C    6\n",
       "D    7\n",
       "Name: 1, dtype: int64"
      ]
     },
     "metadata": {},
     "output_type": "display_data"
    }
   ],
   "source": [
    "import pandas as pd\n",
    "l = np.array(range(12)).reshape(3, 4)\n",
    "df = pd.DataFrame(l, columns='A B C D'.split())\n",
    "display(df)\n",
    "display(df[['B', 'D']])\n",
    "display(df.loc[1])\n",
    "display(df.loc[[1, 2]])\n",
    "display(df.iloc[1])"
   ]
  },
  {
   "cell_type": "markdown",
   "metadata": {},
   "source": [
    "### Example: is_palindrome()\n",
    "\n",
    "[팔린드롬](https://examples.yourdictionary.com/palindrome-examples.html)이 뭔가요? `Anna`, `Civic`, `Level`처럼 앞으로 읽으나 뒤로 읽으나 같은 단어 혹은 문장을 말합니다.\n",
    "\n",
    "팔린드롬을 짜면 보통 이런식으로 하죠."
   ]
  },
  {
   "cell_type": "code",
   "execution_count": 13,
   "metadata": {},
   "outputs": [
    {
     "data": {
      "text/plain": [
       "True"
      ]
     },
     "execution_count": 13,
     "metadata": {},
     "output_type": "execute_result"
    }
   ],
   "source": [
    "palindromes = ['Anna', 'Civic', 'Kayak', 'Level', 'Madam', 'Mom', 'Noon', 'Racecar', 'Radar',\n",
    "               'Redder', 'Refer', 'Repaper', 'Rotator', 'Rotor', 'Sagas', 'Solos', 'Stats',\n",
    "               'Tenet', 'Wow']\n",
    "def is_palindrome(s):\n",
    "    for i in range(len(s)):\n",
    "        if s[i].lower() != s[len(s) - i - 1]:\n",
    "            return False\n",
    "    return True\n",
    "all(is_palindrome(s.lower()) for s in palindromes)"
   ]
  },
  {
   "cell_type": "markdown",
   "metadata": {},
   "source": [
    "one-liner로 하면 이렇게 됩니다:"
   ]
  },
  {
   "cell_type": "code",
   "execution_count": 14,
   "metadata": {},
   "outputs": [
    {
     "data": {
      "text/plain": [
       "True"
      ]
     },
     "execution_count": 14,
     "metadata": {},
     "output_type": "execute_result"
    }
   ],
   "source": [
    "def is_palindrome(s):\n",
    "    return all(s[i] == s[len(s)-i-1] for i in range(len(s)))\n",
    "all(is_palindrome(s.lower()) for s in palindromes)"
   ]
  },
  {
   "cell_type": "markdown",
   "metadata": {},
   "source": [
    "여기서 slicing (python indexing) 의 매직이 있습니다. `~` operator 가 binary one's complement 임을 이용하죠.\n",
    "\n",
    "즉, `~i` == `-i+1`.\n",
    "\n",
    "`~0` == `-1`\n",
    "\n",
    "`~1` == `-2`\n",
    "\n",
    "`~2` == `-3`\n",
    "\n",
    "...\n",
    "\n",
    "이 속성을 이용해서, 이 문제에서 `~`를 쓰면 훨씬 더 효율적이고 멋지게 풀 수 있습니다."
   ]
  },
  {
   "cell_type": "code",
   "execution_count": 15,
   "metadata": {},
   "outputs": [
    {
     "data": {
      "text/plain": [
       "True"
      ]
     },
     "execution_count": 15,
     "metadata": {},
     "output_type": "execute_result"
    }
   ],
   "source": [
    "def is_palindrome(s):\n",
    "    return all(s[i] == s[~i] for i in range(len(s)))\n",
    "all(is_palindrome(s.lower()) for s in palindromes)"
   ]
  },
  {
   "cell_type": "markdown",
   "metadata": {},
   "source": [
    "## + and * operators\n",
    "\n",
    "`+`와 `*`는 강력합니다. 간단하고 짧은 코드를 짤 수 있게 해주죠."
   ]
  },
  {
   "cell_type": "code",
   "execution_count": 16,
   "metadata": {},
   "outputs": [
    {
     "data": {
      "text/plain": [
       "[1, 2, 3, 4, 5]"
      ]
     },
     "execution_count": 16,
     "metadata": {},
     "output_type": "execute_result"
    }
   ],
   "source": [
    "l = [1, 2, 3]\n",
    "l += [4, 5]\n",
    "l"
   ]
  },
  {
   "cell_type": "code",
   "execution_count": 17,
   "metadata": {},
   "outputs": [
    {
     "name": "stdout",
     "output_type": "stream",
     "text": [
      "*\n",
      "**\n",
      "***\n",
      "****\n",
      "*****\n",
      "****\n",
      "***\n",
      "**\n",
      "*\n"
     ]
    }
   ],
   "source": [
    "for i in range(1, 6):\n",
    "    print('*' * i)\n",
    "for i in reversed(range(1, 5)):\n",
    "    print('*' * i)"
   ]
  },
  {
   "cell_type": "markdown",
   "metadata": {},
   "source": [
    "2차원 배열도 쉽게 만들어줍니다."
   ]
  },
  {
   "cell_type": "code",
   "execution_count": 18,
   "metadata": {},
   "outputs": [
    {
     "data": {
      "text/plain": [
       "[['-', '-', '-'],\n",
       " ['-', '-', '-'],\n",
       " ['-', '-', '-'],\n",
       " ['-', '-', '-'],\n",
       " ['-', '-', '-']]"
      ]
     },
     "execution_count": 18,
     "metadata": {},
     "output_type": "execute_result"
    }
   ],
   "source": [
    "row, col = 5, 3\n",
    "board = [['-'] * col for _ in range(row)]\n",
    "board"
   ]
  },
  {
   "cell_type": "markdown",
   "metadata": {},
   "source": [
    "### A += Assgnment Puzzer: On Tuple!\n",
    "\n",
    "이게 굉장히 재밌는 퍼즐입니다. 보통 tuple 이라면 *immutable* 이라고 생각하는데요. 아주 이상한 일이 발생합니다."
   ]
  },
  {
   "cell_type": "code",
   "execution_count": 19,
   "metadata": {},
   "outputs": [
    {
     "name": "stdout",
     "output_type": "stream",
     "text": [
      "(1, 2, [3, 4])\n",
      "4599818856\n",
      "4599841736\n"
     ]
    },
    {
     "ename": "TypeError",
     "evalue": "'tuple' object does not support item assignment",
     "output_type": "error",
     "traceback": [
      "\u001b[0;31m---------------------------------------------------------------------------\u001b[0m",
      "\u001b[0;31mTypeError\u001b[0m                                 Traceback (most recent call last)",
      "\u001b[0;32m<ipython-input-19-9c68aee2ea28>\u001b[0m in \u001b[0;36m<module>\u001b[0;34m\u001b[0m\n\u001b[1;32m      4\u001b[0m \u001b[0mprint\u001b[0m\u001b[0;34m(\u001b[0m\u001b[0mid\u001b[0m\u001b[0;34m(\u001b[0m\u001b[0mt\u001b[0m\u001b[0;34m[\u001b[0m\u001b[0;36m2\u001b[0m\u001b[0;34m]\u001b[0m\u001b[0;34m)\u001b[0m\u001b[0;34m)\u001b[0m\u001b[0;34m\u001b[0m\u001b[0;34m\u001b[0m\u001b[0m\n\u001b[1;32m      5\u001b[0m \u001b[0;31m# 이건 당연히 안됩니다\u001b[0m\u001b[0;34m\u001b[0m\u001b[0;34m\u001b[0m\u001b[0;34m\u001b[0m\u001b[0m\n\u001b[0;32m----> 6\u001b[0;31m \u001b[0mt\u001b[0m\u001b[0;34m[\u001b[0m\u001b[0;36m2\u001b[0m\u001b[0;34m]\u001b[0m \u001b[0;34m+=\u001b[0m \u001b[0;34m[\u001b[0m\u001b[0;36m5\u001b[0m\u001b[0;34m,\u001b[0m \u001b[0;36m6\u001b[0m\u001b[0;34m]\u001b[0m\u001b[0;34m\u001b[0m\u001b[0;34m\u001b[0m\u001b[0m\n\u001b[0m\u001b[1;32m      7\u001b[0m \u001b[0mprint\u001b[0m\u001b[0;34m(\u001b[0m\u001b[0mt\u001b[0m\u001b[0;34m)\u001b[0m\u001b[0;34m\u001b[0m\u001b[0;34m\u001b[0m\u001b[0m\n\u001b[1;32m      8\u001b[0m \u001b[0mprint\u001b[0m\u001b[0;34m(\u001b[0m\u001b[0mid\u001b[0m\u001b[0;34m(\u001b[0m\u001b[0mt\u001b[0m\u001b[0;34m)\u001b[0m\u001b[0;34m)\u001b[0m\u001b[0;34m\u001b[0m\u001b[0;34m\u001b[0m\u001b[0m\n",
      "\u001b[0;31mTypeError\u001b[0m: 'tuple' object does not support item assignment"
     ]
    }
   ],
   "source": [
    "t = (1, 2, [3, 4])\n",
    "print(t)\n",
    "print(id(t))\n",
    "print(id(t[2]))\n",
    "# 이건 당연히 안됩니다\n",
    "t[2] += [5, 6]\n",
    "print(t)\n",
    "print(id(t))\n",
    "print(id(t[2]))"
   ]
  },
  {
   "cell_type": "code",
   "execution_count": 20,
   "metadata": {},
   "outputs": [
    {
     "name": "stdout",
     "output_type": "stream",
     "text": [
      "(1, 2, [3, 4])\n",
      "4599818928\n",
      "4600016840\n",
      "(1, 2, [3, 4, 5, 6])\n",
      "4599818928\n",
      "4600016840\n"
     ]
    }
   ],
   "source": [
    "t = (1, 2, [3, 4])\n",
    "print(t)\n",
    "print(id(t))\n",
    "print(id(t[2]))\n",
    "# 이건 됩니다... lol\n",
    "t[2].append(5)\n",
    "t[2].append(6)\n",
    "print(t)\n",
    "print(id(t))\n",
    "print(id(t[2]))"
   ]
  },
  {
   "cell_type": "markdown",
   "metadata": {},
   "source": [
    "굉장히 혼란스럽습니다. 설명충이 등장하자면요\n",
    "- 첫예제는 t[2] 에 `+=` 연산자가 들어가며 t[2]의 id를 바꾸려하기에 실패합니다.\n",
    "- 둘째는 t[2]의 내용물이 바뀔분, t[2]의 id가 바뀌지 않기에 모든게 잘됩니다... lol"
   ]
  },
  {
   "cell_type": "markdown",
   "metadata": {},
   "source": [
    "## list.sort() and built-in functions\n",
    "\n",
    "`list.sort()`는 in-place sort, `sorted()`는 아니라는 정도만 아시면 될 것 같습니다."
   ]
  },
  {
   "cell_type": "markdown",
   "metadata": {},
   "source": [
    "## Bisect\n",
    "\n",
    "`bisect.bisect`, `bisect.bisect_left` 는 자주 쓰는 써치 api 들입니다. 간단하게 알아보겠습니다."
   ]
  },
  {
   "cell_type": "code",
   "execution_count": 21,
   "metadata": {},
   "outputs": [
    {
     "name": "stdout",
     "output_type": "stream",
     "text": [
      "[0, 2, 4, 6, 8, 10, 12, 14, 16, 18]\n",
      "5\n",
      "6\n"
     ]
    }
   ],
   "source": [
    "import bisect\n",
    "l = list(range(0, 20, 2))\n",
    "print(l)\n",
    "print(bisect.bisect_left(l, 10))  # Locate the insertion point for x in a to maintain sorted order. \n",
    "print(bisect.bisect(l, 10)) # Similar to bisect_left(), but returns an insertion point which comes after (to the right of) any existing entries of x in a."
   ]
  },
  {
   "cell_type": "markdown",
   "metadata": {},
   "source": [
    "## When `list` is not an answer\n",
    "\n",
    "당연히 `list`, `tuple` 이 만능은 아닙니다. 예를들어, scientific computing 을 할때에는 데이터 양이 많아지니 compact 한 자료구조가 필요하겠죠?\n",
    "\n",
    "그럴때 사용하는 것들이, `array.array`, `memoryview`, `numpy`, `scipy` 등이 있습니다."
   ]
  },
  {
   "cell_type": "markdown",
   "metadata": {},
   "source": [
    "`collections.deque`는 큐 관련 연산들을 잘 지원해줍니다. 큐 관련 정리를 해보면요.\n",
    "\n",
    "| Collection | Desc |\n",
    "|------------|------|\n",
    "| collections.deque | thread-safe double-ended queue for fast inserting and removing from both ends |\n",
    "| queue package | synchronized classes Queue, LifoQueue, PriorityQueue |\n",
    "| multiprocessing package |  very similar to queue.Queue, but designed for interprocess communication |\n",
    "| asyncio package | Queue, LifoQueue, PriorityQueue, JoinableQueue for asynchronous programming |\n",
    "| heapq package | provides functions for priority queue |"
   ]
  },
  {
   "cell_type": "markdown",
   "metadata": {},
   "source": [
    "### heapq\n",
    "`heapq`는 힙, 혹은 프라이어리티 큐라는 이름으로 많이 사용됩니다. [leetcode](https://leetcode.com/problemset/all/) 에서도 많은 문제에 사용될 수 있구요.\n",
    "\n",
    "예를들어, 이 문제를 보세요:\n",
    "\n",
    "    In a stream, you are supposed to take the `k` longest strings seen so far. How do you do?\n",
    "    \n",
    "힙을 사용하면 쉽게 풀 수 있습니다."
   ]
  },
  {
   "cell_type": "code",
   "execution_count": 22,
   "metadata": {},
   "outputs": [
    {
     "data": {
      "text/plain": [
       "['the second longest', 'the first longest string']"
      ]
     },
     "execution_count": 22,
     "metadata": {},
     "output_type": "execute_result"
    }
   ],
   "source": [
    "import heapq\n",
    "import itertools\n",
    "\n",
    "def top_k(k, stream):\n",
    "    min_heap = [(len(s), s) for s in itertools.islice(stream, k)]\n",
    "    heapq.heapify(min_heap)\n",
    "    for next_string in stream:\n",
    "        heapq.heappushpop(min_heap, (len(next_string), next_string))\n",
    "    return [p[1] for p in heapq.nsmallest(k, min_heap)]\n",
    "\n",
    "top_k(2, iter(['the first longest string', 'a', 'b', 'ahahahah',\n",
    "               'd', 'the second longest', 'the third']))"
   ]
  },
  {
   "cell_type": "markdown",
   "metadata": {},
   "source": [
    "## Tim Peters and Timsort\n",
    "\n",
    "`list.sort()`나 `sorted()`에 사용되는 알고리즘은 [Timsort](https://en.wikipedia.org/wiki/Timsort)라고 합니다.\n",
    "\n",
    "데이터의 상태에 따라서 insertion sort, merge sort 를 바꿔서 사용하는 알고리즘이라고 하는데요. Zen of Python을 쓴 위대한 Tim Peters 라는 분이 2002년에 처음으로 파이썬에서 사용하고, 자바, 안드로이드에서도 2009년에 사용했다고 합니다."
   ]
  }
 ],
 "metadata": {
  "kernelspec": {
   "display_name": "Python 3",
   "language": "python",
   "name": "python3"
  },
  "language_info": {
   "codemirror_mode": {
    "name": "ipython",
    "version": 3
   },
   "file_extension": ".py",
   "mimetype": "text/x-python",
   "name": "python",
   "nbconvert_exporter": "python",
   "pygments_lexer": "ipython3",
   "version": "3.7.2"
  }
 },
 "nbformat": 4,
 "nbformat_minor": 2
}
